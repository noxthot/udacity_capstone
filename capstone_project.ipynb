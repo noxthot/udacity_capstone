{
 "cells": [
  {
   "cell_type": "markdown",
   "metadata": {
    "editable": true
   },
   "source": [
    "# Board games\n",
    "### Data Engineering Capstone Project\n",
    "\n",
    "#### Project Summary\n",
    "In this project we are going to receive details about board games from two sources. The first source contains meta information about almost 100.000 board games (number of players, genre, ..). The second source contains the ratings of the board games on a daily basis (+2 mio. rows). Our goal is to link these two sources and transform the data into an easier digestible data model to enable Data Analysts to see trends by genre or other game parameters.\n",
    "\n",
    "The project follows the following steps:\n",
    "* Step 1: Scope the Project and Gather Data\n",
    "* Step 2: Explore and Assess the Data\n",
    "* Step 3: Define the Data Model\n",
    "* Step 4: Run ETL to Model the Data\n",
    "* Step 5: Complete Project Write Up"
   ]
  },
  {
   "cell_type": "markdown",
   "metadata": {
    "editable": true
   },
   "source": [
    "##### Code to receive the two datasets. Change these cells to Code to run them. The files in this project were last updated on 25 05 2020."
   ]
  },
  {
   "cell_type": "raw",
   "metadata": {
    "editable": true
   },
   "source": [
    "!git clone https://github.com/beefsack/bgg-ranking-historicals.git"
   ]
  },
  {
   "cell_type": "raw",
   "metadata": {
    "editable": true
   },
   "source": [
    "!pip install kaggle\n",
    "!pip install tqdm --upgrade\n",
    "!rm /root/.kaggle/kaggle.json\n",
    "!echo {\\\"username\\\":\\\"###YOUR_USERNAME###\\\",\\\"key\\\":\\\"###YOUR_API_TOKEN###\\\"} >> /root/.kaggle/kaggle.json\n",
    "!kaggle datasets download -d gabrio/board-games-dataset\n",
    "!unzip -o board-games-dataset.zip -d ./bgg-meta/"
   ]
  },
  {
   "cell_type": "markdown",
   "metadata": {
    "editable": true
   },
   "source": [
    "##### Imports, global settings and initializing session"
   ]
  },
  {
   "cell_type": "code",
   "execution_count": 1,
   "metadata": {
    "editable": true
   },
   "outputs": [],
   "source": [
    "import configparser\n",
    "import os\n",
    "import pandas as pd\n",
    "import sqlite3\n",
    "from pyspark.sql import SparkSession\n",
    "from pyspark.sql.functions import col, count, explode, input_file_name, isnan, monotonically_increasing_id, split, substring_index, to_date, when\n",
    "from pyspark.sql.types import BooleanType, StructType, IntegerType, DoubleType, StringType, StructField"
   ]
  },
  {
   "cell_type": "code",
   "execution_count": 2,
   "metadata": {
    "editable": true
   },
   "outputs": [],
   "source": [
    "def create_spark_session():\n",
    "    spark = SparkSession \\\n",
    "        .builder \\\n",
    "        .config(\"spark.jars.packages\", \"org.apache.hadoop:hadoop-aws:2.7.0\") \\\n",
    "        .getOrCreate()\n",
    "    \n",
    "    return spark"
   ]
  },
  {
   "cell_type": "code",
   "execution_count": 3,
   "metadata": {
    "editable": true
   },
   "outputs": [],
   "source": [
    "pd.set_option('display.max_columns', None)\n",
    "spark = create_spark_session()"
   ]
  },
  {
   "cell_type": "markdown",
   "metadata": {
    "editable": true
   },
   "source": [
    "### Step 1: Scope the Project and Gather Data\n",
    "\n",
    "#### Scope \n",
    "We are transforming the two data sources about board games and their ratings into a data model with five tables. We gather the daily ratings of the board games, aswell as category, game family, game mechanics, number of players, minimum age and some more.\n",
    "Since we talk about daily ratings, we can then use this data to find trending game types in the board gaming industry.\n",
    "\n",
    "The amount of data is still easily managable on a local machine, so we decided to run this locally while (thinking about possible future scenarios) using mainly Spark for reading the data and transforming it. In the end we will persist the tables with parquet.\n",
    " \n",
    "#### Describe and Gather Data \n",
    "First dataset (Daily rankings; given as git repository with csv files):\n",
    "https://github.com/beefsack/bgg-ranking-historicals \n",
    "\n",
    "Second dataset (Meta Data; given as kaggle download as sqlite file):\n",
    "https://www.kaggle.com/mshepherd/board-games?select=bga_GameItem.csv"
   ]
  },
  {
   "cell_type": "code",
   "execution_count": 4,
   "metadata": {
    "editable": true
   },
   "outputs": [],
   "source": [
    "ranking_data = \"./bgg-ranking-historicals/*.csv\"\n",
    "\n",
    "df_staging_ranking_unfiltered = spark.read.option(\"header\", \"true\") \\\n",
    "                                   .option(\"inferSchema\", \"true\") \\\n",
    "                                   .csv(ranking_data) \\\n",
    "                                   .withColumn(\"filename\", input_file_name())"
   ]
  },
  {
   "cell_type": "code",
   "execution_count": 5,
   "metadata": {
    "editable": true
   },
   "outputs": [],
   "source": [
    "# it seems like pyspark does not support reading from sqlite db file (easily). Since the dataset is quite small, we use pandas to load the data and convert to a spark dataframe afterwards\n",
    "# in case the data in this file increases a lot, we will need to find a better way to digest the data\n",
    "conn = sqlite3.connect('./bgg-meta/database.sqlite')\n",
    "\n",
    "df_staging_meta_pd = pd.read_sql_query(\"SELECT * FROM BoardGames\", conn)\n",
    "df_staging_meta_unfiltered = spark.createDataFrame(df_staging_meta_pd)"
   ]
  },
  {
   "cell_type": "code",
   "execution_count": 6,
   "metadata": {
    "editable": true
   },
   "outputs": [
    {
     "name": "stdout",
     "output_type": "stream",
     "text": [
      "root\n",
      " |-- ID: integer (nullable = true)\n",
      " |-- Name: string (nullable = true)\n",
      " |-- Year: integer (nullable = true)\n",
      " |-- Rank: integer (nullable = true)\n",
      " |-- Average: double (nullable = true)\n",
      " |-- Bayes average: double (nullable = true)\n",
      " |-- Users rated: integer (nullable = true)\n",
      " |-- URL: string (nullable = true)\n",
      " |-- Thumbnail: string (nullable = true)\n",
      " |-- filename: string (nullable = false)\n",
      "\n"
     ]
    }
   ],
   "source": [
    "df_staging_ranking_unfiltered.printSchema()"
   ]
  },
  {
   "cell_type": "code",
   "execution_count": 7,
   "metadata": {
    "editable": true
   },
   "outputs": [
    {
     "name": "stdout",
     "output_type": "stream",
     "text": [
      "root\n",
      " |-- row_names: string (nullable = true)\n",
      " |-- game.id: string (nullable = true)\n",
      " |-- game.type: string (nullable = true)\n",
      " |-- details.description: string (nullable = true)\n",
      " |-- details.image: string (nullable = true)\n",
      " |-- details.maxplayers: double (nullable = true)\n",
      " |-- details.maxplaytime: double (nullable = true)\n",
      " |-- details.minage: double (nullable = true)\n",
      " |-- details.minplayers: double (nullable = true)\n",
      " |-- details.minplaytime: double (nullable = true)\n",
      " |-- details.name: string (nullable = true)\n",
      " |-- details.playingtime: double (nullable = true)\n",
      " |-- details.thumbnail: string (nullable = true)\n",
      " |-- details.yearpublished: double (nullable = true)\n",
      " |-- attributes.boardgameartist: string (nullable = true)\n",
      " |-- attributes.boardgamecategory: string (nullable = true)\n",
      " |-- attributes.boardgamecompilation: string (nullable = true)\n",
      " |-- attributes.boardgamedesigner: string (nullable = true)\n",
      " |-- attributes.boardgameexpansion: string (nullable = true)\n",
      " |-- attributes.boardgamefamily: string (nullable = true)\n",
      " |-- attributes.boardgameimplementation: string (nullable = true)\n",
      " |-- attributes.boardgameintegration: string (nullable = true)\n",
      " |-- attributes.boardgamemechanic: string (nullable = true)\n",
      " |-- attributes.boardgamepublisher: string (nullable = true)\n",
      " |-- attributes.total: double (nullable = true)\n",
      " |-- stats.average: double (nullable = true)\n",
      " |-- stats.averageweight: double (nullable = true)\n",
      " |-- stats.bayesaverage: double (nullable = true)\n",
      " |-- stats.family.abstracts.bayesaverage: double (nullable = true)\n",
      " |-- stats.family.abstracts.pos: double (nullable = true)\n",
      " |-- stats.family.cgs.bayesaverage: double (nullable = true)\n",
      " |-- stats.family.cgs.pos: double (nullable = true)\n",
      " |-- stats.family.childrensgames.bayesaverage: double (nullable = true)\n",
      " |-- stats.family.childrensgames.pos: double (nullable = true)\n",
      " |-- stats.family.familygames.bayesaverage: double (nullable = true)\n",
      " |-- stats.family.familygames.pos: double (nullable = true)\n",
      " |-- stats.family.partygames.bayesaverage: double (nullable = true)\n",
      " |-- stats.family.partygames.pos: double (nullable = true)\n",
      " |-- stats.family.strategygames.bayesaverage: double (nullable = true)\n",
      " |-- stats.family.strategygames.pos: double (nullable = true)\n",
      " |-- stats.family.thematic.bayesaverage: double (nullable = true)\n",
      " |-- stats.family.thematic.pos: double (nullable = true)\n",
      " |-- stats.family.wargames.bayesaverage: double (nullable = true)\n",
      " |-- stats.family.wargames.pos: double (nullable = true)\n",
      " |-- stats.median: double (nullable = true)\n",
      " |-- stats.numcomments: double (nullable = true)\n",
      " |-- stats.numweights: double (nullable = true)\n",
      " |-- stats.owned: double (nullable = true)\n",
      " |-- stats.stddev: double (nullable = true)\n",
      " |-- stats.subtype.boardgame.bayesaverage: double (nullable = true)\n",
      " |-- stats.subtype.boardgame.pos: double (nullable = true)\n",
      " |-- stats.trading: double (nullable = true)\n",
      " |-- stats.usersrated: double (nullable = true)\n",
      " |-- stats.wanting: double (nullable = true)\n",
      " |-- stats.wishing: double (nullable = true)\n",
      " |-- polls.language_dependence: string (nullable = true)\n",
      " |-- polls.suggested_numplayers.1: string (nullable = true)\n",
      " |-- polls.suggested_numplayers.10: string (nullable = true)\n",
      " |-- polls.suggested_numplayers.2: string (nullable = true)\n",
      " |-- polls.suggested_numplayers.3: string (nullable = true)\n",
      " |-- polls.suggested_numplayers.4: string (nullable = true)\n",
      " |-- polls.suggested_numplayers.5: string (nullable = true)\n",
      " |-- polls.suggested_numplayers.6: string (nullable = true)\n",
      " |-- polls.suggested_numplayers.7: string (nullable = true)\n",
      " |-- polls.suggested_numplayers.8: string (nullable = true)\n",
      " |-- polls.suggested_numplayers.9: string (nullable = true)\n",
      " |-- polls.suggested_numplayers.Over: string (nullable = true)\n",
      " |-- polls.suggested_playerage: string (nullable = true)\n",
      " |-- attributes.t.links.concat.2....: string (nullable = true)\n",
      " |-- stats.family.amiga.bayesaverage: double (nullable = true)\n",
      " |-- stats.family.amiga.pos: double (nullable = true)\n",
      " |-- stats.family.arcade.bayesaverage: double (nullable = true)\n",
      " |-- stats.family.arcade.pos: double (nullable = true)\n",
      " |-- stats.family.atarist.bayesaverage: double (nullable = true)\n",
      " |-- stats.family.atarist.pos: double (nullable = true)\n",
      " |-- stats.family.commodore64.bayesaverage: double (nullable = true)\n",
      " |-- stats.family.commodore64.pos: double (nullable = true)\n",
      " |-- stats.subtype.rpgitem.bayesaverage: double (nullable = true)\n",
      " |-- stats.subtype.rpgitem.pos: double (nullable = true)\n",
      " |-- stats.subtype.videogame.bayesaverage: double (nullable = true)\n",
      " |-- stats.subtype.videogame.pos: double (nullable = true)\n",
      "\n"
     ]
    }
   ],
   "source": [
    "df_staging_meta_unfiltered.printSchema()"
   ]
  },
  {
   "cell_type": "markdown",
   "metadata": {
    "editable": true
   },
   "source": [
    "### Step 2: Explore and Assess the Data\n",
    "#### Exploring the data and cleaning steps - Meta data"
   ]
  },
  {
   "cell_type": "markdown",
   "metadata": {
    "editable": true
   },
   "source": [
    "##### It is a bit tedious to use spark with dots in column names. So we replace dots with underscores in the first step"
   ]
  },
  {
   "cell_type": "code",
   "execution_count": 8,
   "metadata": {
    "editable": true
   },
   "outputs": [],
   "source": [
    "for col in df_staging_meta_unfiltered.columns:\n",
    "    df_staging_meta_unfiltered = df_staging_meta_unfiltered.withColumnRenamed(col, col.replace('.', '_'))"
   ]
  },
  {
   "cell_type": "code",
   "execution_count": 9,
   "metadata": {
    "editable": true
   },
   "outputs": [
    {
     "data": {
      "text/html": [
       "<div>\n",
       "<style scoped>\n",
       "    .dataframe tbody tr th:only-of-type {\n",
       "        vertical-align: middle;\n",
       "    }\n",
       "\n",
       "    .dataframe tbody tr th {\n",
       "        vertical-align: top;\n",
       "    }\n",
       "\n",
       "    .dataframe thead th {\n",
       "        text-align: right;\n",
       "    }\n",
       "</style>\n",
       "<table border=\"1\" class=\"dataframe\">\n",
       "  <thead>\n",
       "    <tr style=\"text-align: right;\">\n",
       "      <th></th>\n",
       "      <th>row_names</th>\n",
       "      <th>game_id</th>\n",
       "      <th>game_type</th>\n",
       "      <th>details_description</th>\n",
       "      <th>details_image</th>\n",
       "      <th>details_maxplayers</th>\n",
       "      <th>details_maxplaytime</th>\n",
       "      <th>details_minage</th>\n",
       "      <th>details_minplayers</th>\n",
       "      <th>details_minplaytime</th>\n",
       "      <th>details_name</th>\n",
       "      <th>details_playingtime</th>\n",
       "      <th>details_thumbnail</th>\n",
       "      <th>details_yearpublished</th>\n",
       "      <th>attributes_boardgameartist</th>\n",
       "      <th>attributes_boardgamecategory</th>\n",
       "      <th>attributes_boardgamecompilation</th>\n",
       "      <th>attributes_boardgamedesigner</th>\n",
       "      <th>attributes_boardgameexpansion</th>\n",
       "      <th>attributes_boardgamefamily</th>\n",
       "      <th>attributes_boardgameimplementation</th>\n",
       "      <th>attributes_boardgameintegration</th>\n",
       "      <th>attributes_boardgamemechanic</th>\n",
       "      <th>attributes_boardgamepublisher</th>\n",
       "      <th>attributes_total</th>\n",
       "      <th>stats_average</th>\n",
       "      <th>stats_averageweight</th>\n",
       "      <th>stats_bayesaverage</th>\n",
       "      <th>stats_family_abstracts_bayesaverage</th>\n",
       "      <th>stats_family_abstracts_pos</th>\n",
       "      <th>stats_family_cgs_bayesaverage</th>\n",
       "      <th>stats_family_cgs_pos</th>\n",
       "      <th>stats_family_childrensgames_bayesaverage</th>\n",
       "      <th>stats_family_childrensgames_pos</th>\n",
       "      <th>stats_family_familygames_bayesaverage</th>\n",
       "      <th>stats_family_familygames_pos</th>\n",
       "      <th>stats_family_partygames_bayesaverage</th>\n",
       "      <th>stats_family_partygames_pos</th>\n",
       "      <th>stats_family_strategygames_bayesaverage</th>\n",
       "      <th>stats_family_strategygames_pos</th>\n",
       "      <th>stats_family_thematic_bayesaverage</th>\n",
       "      <th>stats_family_thematic_pos</th>\n",
       "      <th>stats_family_wargames_bayesaverage</th>\n",
       "      <th>stats_family_wargames_pos</th>\n",
       "      <th>stats_median</th>\n",
       "      <th>stats_numcomments</th>\n",
       "      <th>stats_numweights</th>\n",
       "      <th>stats_owned</th>\n",
       "      <th>stats_stddev</th>\n",
       "      <th>stats_subtype_boardgame_bayesaverage</th>\n",
       "      <th>stats_subtype_boardgame_pos</th>\n",
       "      <th>stats_trading</th>\n",
       "      <th>stats_usersrated</th>\n",
       "      <th>stats_wanting</th>\n",
       "      <th>stats_wishing</th>\n",
       "      <th>polls_language_dependence</th>\n",
       "      <th>polls_suggested_numplayers_1</th>\n",
       "      <th>polls_suggested_numplayers_10</th>\n",
       "      <th>polls_suggested_numplayers_2</th>\n",
       "      <th>polls_suggested_numplayers_3</th>\n",
       "      <th>polls_suggested_numplayers_4</th>\n",
       "      <th>polls_suggested_numplayers_5</th>\n",
       "      <th>polls_suggested_numplayers_6</th>\n",
       "      <th>polls_suggested_numplayers_7</th>\n",
       "      <th>polls_suggested_numplayers_8</th>\n",
       "      <th>polls_suggested_numplayers_9</th>\n",
       "      <th>polls_suggested_numplayers_Over</th>\n",
       "      <th>polls_suggested_playerage</th>\n",
       "      <th>attributes_t_links_concat_2____</th>\n",
       "      <th>stats_family_amiga_bayesaverage</th>\n",
       "      <th>stats_family_amiga_pos</th>\n",
       "      <th>stats_family_arcade_bayesaverage</th>\n",
       "      <th>stats_family_arcade_pos</th>\n",
       "      <th>stats_family_atarist_bayesaverage</th>\n",
       "      <th>stats_family_atarist_pos</th>\n",
       "      <th>stats_family_commodore64_bayesaverage</th>\n",
       "      <th>stats_family_commodore64_pos</th>\n",
       "      <th>stats_subtype_rpgitem_bayesaverage</th>\n",
       "      <th>stats_subtype_rpgitem_pos</th>\n",
       "      <th>stats_subtype_videogame_bayesaverage</th>\n",
       "      <th>stats_subtype_videogame_pos</th>\n",
       "    </tr>\n",
       "  </thead>\n",
       "  <tbody>\n",
       "    <tr>\n",
       "      <th>0</th>\n",
       "      <td>1</td>\n",
       "      <td>1</td>\n",
       "      <td>boardgame</td>\n",
       "      <td>Die Macher is a game about seven sequential po...</td>\n",
       "      <td>//cf.geekdo-images.com/images/pic159509.jpg</td>\n",
       "      <td>5.0</td>\n",
       "      <td>240.0</td>\n",
       "      <td>14.0</td>\n",
       "      <td>3.0</td>\n",
       "      <td>240.0</td>\n",
       "      <td>Die Macher</td>\n",
       "      <td>240.0</td>\n",
       "      <td>//cf.geekdo-images.com/images/pic159509_t.jpg</td>\n",
       "      <td>1986.0</td>\n",
       "      <td>Marcus Gschwendtner</td>\n",
       "      <td>Economic,Negotiation,Political</td>\n",
       "      <td>None</td>\n",
       "      <td>Karl-Heinz Schmiel</td>\n",
       "      <td>None</td>\n",
       "      <td>Country: Germany,Valley Games Classic Line</td>\n",
       "      <td>None</td>\n",
       "      <td>None</td>\n",
       "      <td>Area Control / Area Influence,Auction/Bidding,...</td>\n",
       "      <td>Hans im Glück Verlags-GmbH,Moskito Spiele,Vall...</td>\n",
       "      <td>6.0</td>\n",
       "      <td>7.66508</td>\n",
       "      <td>4.3477</td>\n",
       "      <td>7.29168</td>\n",
       "      <td>NaN</td>\n",
       "      <td>NaN</td>\n",
       "      <td>NaN</td>\n",
       "      <td>NaN</td>\n",
       "      <td>NaN</td>\n",
       "      <td>NaN</td>\n",
       "      <td>NaN</td>\n",
       "      <td>NaN</td>\n",
       "      <td>NaN</td>\n",
       "      <td>NaN</td>\n",
       "      <td>7.39570</td>\n",
       "      <td>85.0</td>\n",
       "      <td>NaN</td>\n",
       "      <td>NaN</td>\n",
       "      <td>NaN</td>\n",
       "      <td>NaN</td>\n",
       "      <td>0.0</td>\n",
       "      <td>1763.0</td>\n",
       "      <td>719.0</td>\n",
       "      <td>5251.0</td>\n",
       "      <td>1.59321</td>\n",
       "      <td>7.29168</td>\n",
       "      <td>147.0</td>\n",
       "      <td>170.0</td>\n",
       "      <td>4498.0</td>\n",
       "      <td>505.0</td>\n",
       "      <td>1654.0</td>\n",
       "      <td>No</td>\n",
       "      <td>NotRecommended</td>\n",
       "      <td>None</td>\n",
       "      <td>NotRecommended</td>\n",
       "      <td>NotRecommended</td>\n",
       "      <td>Recommended</td>\n",
       "      <td>Best</td>\n",
       "      <td>None</td>\n",
       "      <td>None</td>\n",
       "      <td>None</td>\n",
       "      <td>None</td>\n",
       "      <td>NotRecommended</td>\n",
       "      <td>14</td>\n",
       "      <td>None</td>\n",
       "      <td>NaN</td>\n",
       "      <td>NaN</td>\n",
       "      <td>NaN</td>\n",
       "      <td>NaN</td>\n",
       "      <td>NaN</td>\n",
       "      <td>NaN</td>\n",
       "      <td>NaN</td>\n",
       "      <td>NaN</td>\n",
       "      <td>NaN</td>\n",
       "      <td>NaN</td>\n",
       "      <td>NaN</td>\n",
       "      <td>NaN</td>\n",
       "    </tr>\n",
       "    <tr>\n",
       "      <th>1</th>\n",
       "      <td>2</td>\n",
       "      <td>2</td>\n",
       "      <td>boardgame</td>\n",
       "      <td>Dragonmaster is a trick-taking card game based...</td>\n",
       "      <td>//cf.geekdo-images.com/images/pic184174.jpg</td>\n",
       "      <td>4.0</td>\n",
       "      <td>30.0</td>\n",
       "      <td>12.0</td>\n",
       "      <td>3.0</td>\n",
       "      <td>30.0</td>\n",
       "      <td>Dragonmaster</td>\n",
       "      <td>30.0</td>\n",
       "      <td>//cf.geekdo-images.com/images/pic184174_t.jpg</td>\n",
       "      <td>1981.0</td>\n",
       "      <td>Bob Pepper</td>\n",
       "      <td>Card Game,Fantasy</td>\n",
       "      <td>None</td>\n",
       "      <td>G. W. \"Jerry\" D'Arcey</td>\n",
       "      <td>None</td>\n",
       "      <td>Animals: Dragons</td>\n",
       "      <td>Indulgence,Coup d'etat</td>\n",
       "      <td>None</td>\n",
       "      <td>Trick-taking</td>\n",
       "      <td>E.S. Lowe,Milton Bradley</td>\n",
       "      <td>7.0</td>\n",
       "      <td>6.60815</td>\n",
       "      <td>1.9423</td>\n",
       "      <td>5.87150</td>\n",
       "      <td>NaN</td>\n",
       "      <td>NaN</td>\n",
       "      <td>NaN</td>\n",
       "      <td>NaN</td>\n",
       "      <td>NaN</td>\n",
       "      <td>NaN</td>\n",
       "      <td>NaN</td>\n",
       "      <td>NaN</td>\n",
       "      <td>NaN</td>\n",
       "      <td>NaN</td>\n",
       "      <td>5.91318</td>\n",
       "      <td>1066.0</td>\n",
       "      <td>NaN</td>\n",
       "      <td>NaN</td>\n",
       "      <td>NaN</td>\n",
       "      <td>NaN</td>\n",
       "      <td>0.0</td>\n",
       "      <td>273.0</td>\n",
       "      <td>52.0</td>\n",
       "      <td>1053.0</td>\n",
       "      <td>1.46282</td>\n",
       "      <td>5.87150</td>\n",
       "      <td>2541.0</td>\n",
       "      <td>73.0</td>\n",
       "      <td>478.0</td>\n",
       "      <td>67.0</td>\n",
       "      <td>161.0</td>\n",
       "      <td>Some</td>\n",
       "      <td>NotRecommended</td>\n",
       "      <td>None</td>\n",
       "      <td>NotRecommended</td>\n",
       "      <td>Recommended</td>\n",
       "      <td>Best</td>\n",
       "      <td>None</td>\n",
       "      <td>None</td>\n",
       "      <td>None</td>\n",
       "      <td>None</td>\n",
       "      <td>None</td>\n",
       "      <td>NotRecommended</td>\n",
       "      <td>None</td>\n",
       "      <td>None</td>\n",
       "      <td>NaN</td>\n",
       "      <td>NaN</td>\n",
       "      <td>NaN</td>\n",
       "      <td>NaN</td>\n",
       "      <td>NaN</td>\n",
       "      <td>NaN</td>\n",
       "      <td>NaN</td>\n",
       "      <td>NaN</td>\n",
       "      <td>NaN</td>\n",
       "      <td>NaN</td>\n",
       "      <td>NaN</td>\n",
       "      <td>NaN</td>\n",
       "    </tr>\n",
       "    <tr>\n",
       "      <th>2</th>\n",
       "      <td>3</td>\n",
       "      <td>3</td>\n",
       "      <td>boardgame</td>\n",
       "      <td>Part of the Knizia tile-laying trilogy, Samura...</td>\n",
       "      <td>//cf.geekdo-images.com/images/pic3211873.jpg</td>\n",
       "      <td>4.0</td>\n",
       "      <td>60.0</td>\n",
       "      <td>10.0</td>\n",
       "      <td>2.0</td>\n",
       "      <td>30.0</td>\n",
       "      <td>Samurai</td>\n",
       "      <td>60.0</td>\n",
       "      <td>//cf.geekdo-images.com/images/pic3211873_t.jpg</td>\n",
       "      <td>1998.0</td>\n",
       "      <td>Franz Vohwinkel</td>\n",
       "      <td>Abstract Strategy,Medieval</td>\n",
       "      <td>None</td>\n",
       "      <td>Reiner Knizia</td>\n",
       "      <td>None</td>\n",
       "      <td>Asian Theme,Country: Japan,Knizia tile-laying ...</td>\n",
       "      <td>None</td>\n",
       "      <td>None</td>\n",
       "      <td>Area Control / Area Influence,Hand Management,...</td>\n",
       "      <td>999 Games,ABACUSSPIELE,Astrel Games,Ceilikan J...</td>\n",
       "      <td>6.0</td>\n",
       "      <td>7.44119</td>\n",
       "      <td>2.5085</td>\n",
       "      <td>7.28295</td>\n",
       "      <td>NaN</td>\n",
       "      <td>NaN</td>\n",
       "      <td>NaN</td>\n",
       "      <td>NaN</td>\n",
       "      <td>NaN</td>\n",
       "      <td>NaN</td>\n",
       "      <td>NaN</td>\n",
       "      <td>NaN</td>\n",
       "      <td>NaN</td>\n",
       "      <td>NaN</td>\n",
       "      <td>7.30610</td>\n",
       "      <td>112.0</td>\n",
       "      <td>NaN</td>\n",
       "      <td>NaN</td>\n",
       "      <td>NaN</td>\n",
       "      <td>NaN</td>\n",
       "      <td>0.0</td>\n",
       "      <td>3281.0</td>\n",
       "      <td>1355.0</td>\n",
       "      <td>11870.0</td>\n",
       "      <td>1.18531</td>\n",
       "      <td>7.28295</td>\n",
       "      <td>150.0</td>\n",
       "      <td>234.0</td>\n",
       "      <td>12019.0</td>\n",
       "      <td>707.0</td>\n",
       "      <td>2601.0</td>\n",
       "      <td>No</td>\n",
       "      <td>NotRecommended</td>\n",
       "      <td>None</td>\n",
       "      <td>Recommended</td>\n",
       "      <td>Best</td>\n",
       "      <td>Recommended</td>\n",
       "      <td>None</td>\n",
       "      <td>None</td>\n",
       "      <td>None</td>\n",
       "      <td>None</td>\n",
       "      <td>None</td>\n",
       "      <td>NotRecommended</td>\n",
       "      <td>10</td>\n",
       "      <td>None</td>\n",
       "      <td>NaN</td>\n",
       "      <td>NaN</td>\n",
       "      <td>NaN</td>\n",
       "      <td>NaN</td>\n",
       "      <td>NaN</td>\n",
       "      <td>NaN</td>\n",
       "      <td>NaN</td>\n",
       "      <td>NaN</td>\n",
       "      <td>NaN</td>\n",
       "      <td>NaN</td>\n",
       "      <td>NaN</td>\n",
       "      <td>NaN</td>\n",
       "    </tr>\n",
       "    <tr>\n",
       "      <th>3</th>\n",
       "      <td>4</td>\n",
       "      <td>4</td>\n",
       "      <td>boardgame</td>\n",
       "      <td>When you see the triangular box and the luxuri...</td>\n",
       "      <td>//cf.geekdo-images.com/images/pic285299.jpg</td>\n",
       "      <td>4.0</td>\n",
       "      <td>60.0</td>\n",
       "      <td>12.0</td>\n",
       "      <td>2.0</td>\n",
       "      <td>60.0</td>\n",
       "      <td>Tal der Könige</td>\n",
       "      <td>60.0</td>\n",
       "      <td>//cf.geekdo-images.com/images/pic285299_t.jpg</td>\n",
       "      <td>1992.0</td>\n",
       "      <td>None</td>\n",
       "      <td>Ancient</td>\n",
       "      <td>None</td>\n",
       "      <td>Christian Beierer</td>\n",
       "      <td>None</td>\n",
       "      <td>Country: Egypt,Promotional Board Games</td>\n",
       "      <td>None</td>\n",
       "      <td>None</td>\n",
       "      <td>Action Point Allowance System,Area Control / A...</td>\n",
       "      <td>KOSMOS</td>\n",
       "      <td>5.0</td>\n",
       "      <td>6.60675</td>\n",
       "      <td>2.6667</td>\n",
       "      <td>5.76636</td>\n",
       "      <td>NaN</td>\n",
       "      <td>NaN</td>\n",
       "      <td>NaN</td>\n",
       "      <td>NaN</td>\n",
       "      <td>NaN</td>\n",
       "      <td>NaN</td>\n",
       "      <td>NaN</td>\n",
       "      <td>NaN</td>\n",
       "      <td>NaN</td>\n",
       "      <td>NaN</td>\n",
       "      <td>NaN</td>\n",
       "      <td>NaN</td>\n",
       "      <td>NaN</td>\n",
       "      <td>NaN</td>\n",
       "      <td>NaN</td>\n",
       "      <td>NaN</td>\n",
       "      <td>0.0</td>\n",
       "      <td>111.0</td>\n",
       "      <td>30.0</td>\n",
       "      <td>523.0</td>\n",
       "      <td>1.21028</td>\n",
       "      <td>5.76636</td>\n",
       "      <td>3191.0</td>\n",
       "      <td>29.0</td>\n",
       "      <td>314.0</td>\n",
       "      <td>61.0</td>\n",
       "      <td>112.0</td>\n",
       "      <td>No</td>\n",
       "      <td>NotRecommended</td>\n",
       "      <td>None</td>\n",
       "      <td>Recommended</td>\n",
       "      <td>Best</td>\n",
       "      <td>Best</td>\n",
       "      <td>None</td>\n",
       "      <td>None</td>\n",
       "      <td>None</td>\n",
       "      <td>None</td>\n",
       "      <td>None</td>\n",
       "      <td>NotRecommended</td>\n",
       "      <td>14</td>\n",
       "      <td>None</td>\n",
       "      <td>NaN</td>\n",
       "      <td>NaN</td>\n",
       "      <td>NaN</td>\n",
       "      <td>NaN</td>\n",
       "      <td>NaN</td>\n",
       "      <td>NaN</td>\n",
       "      <td>NaN</td>\n",
       "      <td>NaN</td>\n",
       "      <td>NaN</td>\n",
       "      <td>NaN</td>\n",
       "      <td>NaN</td>\n",
       "      <td>NaN</td>\n",
       "    </tr>\n",
       "    <tr>\n",
       "      <th>4</th>\n",
       "      <td>5</td>\n",
       "      <td>5</td>\n",
       "      <td>boardgame</td>\n",
       "      <td>In Acquire, each player strategically invests ...</td>\n",
       "      <td>//cf.geekdo-images.com/images/pic342163.jpg</td>\n",
       "      <td>6.0</td>\n",
       "      <td>90.0</td>\n",
       "      <td>12.0</td>\n",
       "      <td>3.0</td>\n",
       "      <td>90.0</td>\n",
       "      <td>Acquire</td>\n",
       "      <td>90.0</td>\n",
       "      <td>//cf.geekdo-images.com/images/pic342163_t.jpg</td>\n",
       "      <td>1964.0</td>\n",
       "      <td>Scott Okumura,Peter Whitley</td>\n",
       "      <td>Economic</td>\n",
       "      <td>None</td>\n",
       "      <td>Sid Sackson</td>\n",
       "      <td>None</td>\n",
       "      <td>3M Bookshelf Series</td>\n",
       "      <td>None</td>\n",
       "      <td>None</td>\n",
       "      <td>Hand Management,Stock Holding,Tile Placement</td>\n",
       "      <td>3M,Avalon Hill,Avalon Hill (Hasbro),Dujardin,G...</td>\n",
       "      <td>6.0</td>\n",
       "      <td>7.35830</td>\n",
       "      <td>2.5089</td>\n",
       "      <td>7.21895</td>\n",
       "      <td>NaN</td>\n",
       "      <td>NaN</td>\n",
       "      <td>NaN</td>\n",
       "      <td>NaN</td>\n",
       "      <td>NaN</td>\n",
       "      <td>NaN</td>\n",
       "      <td>NaN</td>\n",
       "      <td>NaN</td>\n",
       "      <td>NaN</td>\n",
       "      <td>NaN</td>\n",
       "      <td>7.21696</td>\n",
       "      <td>141.0</td>\n",
       "      <td>NaN</td>\n",
       "      <td>NaN</td>\n",
       "      <td>NaN</td>\n",
       "      <td>NaN</td>\n",
       "      <td>0.0</td>\n",
       "      <td>5011.0</td>\n",
       "      <td>1515.0</td>\n",
       "      <td>18682.0</td>\n",
       "      <td>1.33020</td>\n",
       "      <td>7.21895</td>\n",
       "      <td>181.0</td>\n",
       "      <td>823.0</td>\n",
       "      <td>15195.0</td>\n",
       "      <td>516.0</td>\n",
       "      <td>2219.0</td>\n",
       "      <td>No</td>\n",
       "      <td>NotRecommended</td>\n",
       "      <td>None</td>\n",
       "      <td>NotRecommended</td>\n",
       "      <td>Recommended</td>\n",
       "      <td>Best</td>\n",
       "      <td>Recommended</td>\n",
       "      <td>Recommended</td>\n",
       "      <td>None</td>\n",
       "      <td>None</td>\n",
       "      <td>None</td>\n",
       "      <td>NotRecommended</td>\n",
       "      <td>12</td>\n",
       "      <td>None</td>\n",
       "      <td>NaN</td>\n",
       "      <td>NaN</td>\n",
       "      <td>NaN</td>\n",
       "      <td>NaN</td>\n",
       "      <td>NaN</td>\n",
       "      <td>NaN</td>\n",
       "      <td>NaN</td>\n",
       "      <td>NaN</td>\n",
       "      <td>NaN</td>\n",
       "      <td>NaN</td>\n",
       "      <td>NaN</td>\n",
       "      <td>NaN</td>\n",
       "    </tr>\n",
       "  </tbody>\n",
       "</table>\n",
       "</div>"
      ],
      "text/plain": [
       "  row_names game_id  game_type  \\\n",
       "0         1       1  boardgame   \n",
       "1         2       2  boardgame   \n",
       "2         3       3  boardgame   \n",
       "3         4       4  boardgame   \n",
       "4         5       5  boardgame   \n",
       "\n",
       "                                 details_description  \\\n",
       "0  Die Macher is a game about seven sequential po...   \n",
       "1  Dragonmaster is a trick-taking card game based...   \n",
       "2  Part of the Knizia tile-laying trilogy, Samura...   \n",
       "3  When you see the triangular box and the luxuri...   \n",
       "4  In Acquire, each player strategically invests ...   \n",
       "\n",
       "                                  details_image  details_maxplayers  \\\n",
       "0   //cf.geekdo-images.com/images/pic159509.jpg                 5.0   \n",
       "1   //cf.geekdo-images.com/images/pic184174.jpg                 4.0   \n",
       "2  //cf.geekdo-images.com/images/pic3211873.jpg                 4.0   \n",
       "3   //cf.geekdo-images.com/images/pic285299.jpg                 4.0   \n",
       "4   //cf.geekdo-images.com/images/pic342163.jpg                 6.0   \n",
       "\n",
       "   details_maxplaytime  details_minage  details_minplayers  \\\n",
       "0                240.0            14.0                 3.0   \n",
       "1                 30.0            12.0                 3.0   \n",
       "2                 60.0            10.0                 2.0   \n",
       "3                 60.0            12.0                 2.0   \n",
       "4                 90.0            12.0                 3.0   \n",
       "\n",
       "   details_minplaytime    details_name  details_playingtime  \\\n",
       "0                240.0      Die Macher                240.0   \n",
       "1                 30.0    Dragonmaster                 30.0   \n",
       "2                 30.0         Samurai                 60.0   \n",
       "3                 60.0  Tal der Könige                 60.0   \n",
       "4                 90.0         Acquire                 90.0   \n",
       "\n",
       "                                details_thumbnail  details_yearpublished  \\\n",
       "0   //cf.geekdo-images.com/images/pic159509_t.jpg                 1986.0   \n",
       "1   //cf.geekdo-images.com/images/pic184174_t.jpg                 1981.0   \n",
       "2  //cf.geekdo-images.com/images/pic3211873_t.jpg                 1998.0   \n",
       "3   //cf.geekdo-images.com/images/pic285299_t.jpg                 1992.0   \n",
       "4   //cf.geekdo-images.com/images/pic342163_t.jpg                 1964.0   \n",
       "\n",
       "    attributes_boardgameartist    attributes_boardgamecategory  \\\n",
       "0          Marcus Gschwendtner  Economic,Negotiation,Political   \n",
       "1                   Bob Pepper               Card Game,Fantasy   \n",
       "2              Franz Vohwinkel      Abstract Strategy,Medieval   \n",
       "3                         None                         Ancient   \n",
       "4  Scott Okumura,Peter Whitley                        Economic   \n",
       "\n",
       "  attributes_boardgamecompilation attributes_boardgamedesigner  \\\n",
       "0                            None           Karl-Heinz Schmiel   \n",
       "1                            None        G. W. \"Jerry\" D'Arcey   \n",
       "2                            None                Reiner Knizia   \n",
       "3                            None            Christian Beierer   \n",
       "4                            None                  Sid Sackson   \n",
       "\n",
       "  attributes_boardgameexpansion  \\\n",
       "0                          None   \n",
       "1                          None   \n",
       "2                          None   \n",
       "3                          None   \n",
       "4                          None   \n",
       "\n",
       "                          attributes_boardgamefamily  \\\n",
       "0         Country: Germany,Valley Games Classic Line   \n",
       "1                                   Animals: Dragons   \n",
       "2  Asian Theme,Country: Japan,Knizia tile-laying ...   \n",
       "3             Country: Egypt,Promotional Board Games   \n",
       "4                                3M Bookshelf Series   \n",
       "\n",
       "  attributes_boardgameimplementation attributes_boardgameintegration  \\\n",
       "0                               None                            None   \n",
       "1             Indulgence,Coup d'etat                            None   \n",
       "2                               None                            None   \n",
       "3                               None                            None   \n",
       "4                               None                            None   \n",
       "\n",
       "                        attributes_boardgamemechanic  \\\n",
       "0  Area Control / Area Influence,Auction/Bidding,...   \n",
       "1                                       Trick-taking   \n",
       "2  Area Control / Area Influence,Hand Management,...   \n",
       "3  Action Point Allowance System,Area Control / A...   \n",
       "4       Hand Management,Stock Holding,Tile Placement   \n",
       "\n",
       "                       attributes_boardgamepublisher  attributes_total  \\\n",
       "0  Hans im Glück Verlags-GmbH,Moskito Spiele,Vall...               6.0   \n",
       "1                           E.S. Lowe,Milton Bradley               7.0   \n",
       "2  999 Games,ABACUSSPIELE,Astrel Games,Ceilikan J...               6.0   \n",
       "3                                             KOSMOS               5.0   \n",
       "4  3M,Avalon Hill,Avalon Hill (Hasbro),Dujardin,G...               6.0   \n",
       "\n",
       "   stats_average  stats_averageweight  stats_bayesaverage  \\\n",
       "0        7.66508               4.3477             7.29168   \n",
       "1        6.60815               1.9423             5.87150   \n",
       "2        7.44119               2.5085             7.28295   \n",
       "3        6.60675               2.6667             5.76636   \n",
       "4        7.35830               2.5089             7.21895   \n",
       "\n",
       "   stats_family_abstracts_bayesaverage  stats_family_abstracts_pos  \\\n",
       "0                                  NaN                         NaN   \n",
       "1                                  NaN                         NaN   \n",
       "2                                  NaN                         NaN   \n",
       "3                                  NaN                         NaN   \n",
       "4                                  NaN                         NaN   \n",
       "\n",
       "   stats_family_cgs_bayesaverage  stats_family_cgs_pos  \\\n",
       "0                            NaN                   NaN   \n",
       "1                            NaN                   NaN   \n",
       "2                            NaN                   NaN   \n",
       "3                            NaN                   NaN   \n",
       "4                            NaN                   NaN   \n",
       "\n",
       "   stats_family_childrensgames_bayesaverage  stats_family_childrensgames_pos  \\\n",
       "0                                       NaN                              NaN   \n",
       "1                                       NaN                              NaN   \n",
       "2                                       NaN                              NaN   \n",
       "3                                       NaN                              NaN   \n",
       "4                                       NaN                              NaN   \n",
       "\n",
       "   stats_family_familygames_bayesaverage  stats_family_familygames_pos  \\\n",
       "0                                    NaN                           NaN   \n",
       "1                                    NaN                           NaN   \n",
       "2                                    NaN                           NaN   \n",
       "3                                    NaN                           NaN   \n",
       "4                                    NaN                           NaN   \n",
       "\n",
       "   stats_family_partygames_bayesaverage  stats_family_partygames_pos  \\\n",
       "0                                   NaN                          NaN   \n",
       "1                                   NaN                          NaN   \n",
       "2                                   NaN                          NaN   \n",
       "3                                   NaN                          NaN   \n",
       "4                                   NaN                          NaN   \n",
       "\n",
       "   stats_family_strategygames_bayesaverage  stats_family_strategygames_pos  \\\n",
       "0                                  7.39570                            85.0   \n",
       "1                                  5.91318                          1066.0   \n",
       "2                                  7.30610                           112.0   \n",
       "3                                      NaN                             NaN   \n",
       "4                                  7.21696                           141.0   \n",
       "\n",
       "   stats_family_thematic_bayesaverage  stats_family_thematic_pos  \\\n",
       "0                                 NaN                        NaN   \n",
       "1                                 NaN                        NaN   \n",
       "2                                 NaN                        NaN   \n",
       "3                                 NaN                        NaN   \n",
       "4                                 NaN                        NaN   \n",
       "\n",
       "   stats_family_wargames_bayesaverage  stats_family_wargames_pos  \\\n",
       "0                                 NaN                        NaN   \n",
       "1                                 NaN                        NaN   \n",
       "2                                 NaN                        NaN   \n",
       "3                                 NaN                        NaN   \n",
       "4                                 NaN                        NaN   \n",
       "\n",
       "   stats_median  stats_numcomments  stats_numweights  stats_owned  \\\n",
       "0           0.0             1763.0             719.0       5251.0   \n",
       "1           0.0              273.0              52.0       1053.0   \n",
       "2           0.0             3281.0            1355.0      11870.0   \n",
       "3           0.0              111.0              30.0        523.0   \n",
       "4           0.0             5011.0            1515.0      18682.0   \n",
       "\n",
       "   stats_stddev  stats_subtype_boardgame_bayesaverage  \\\n",
       "0       1.59321                               7.29168   \n",
       "1       1.46282                               5.87150   \n",
       "2       1.18531                               7.28295   \n",
       "3       1.21028                               5.76636   \n",
       "4       1.33020                               7.21895   \n",
       "\n",
       "   stats_subtype_boardgame_pos  stats_trading  stats_usersrated  \\\n",
       "0                        147.0          170.0            4498.0   \n",
       "1                       2541.0           73.0             478.0   \n",
       "2                        150.0          234.0           12019.0   \n",
       "3                       3191.0           29.0             314.0   \n",
       "4                        181.0          823.0           15195.0   \n",
       "\n",
       "   stats_wanting  stats_wishing polls_language_dependence  \\\n",
       "0          505.0         1654.0                        No   \n",
       "1           67.0          161.0                      Some   \n",
       "2          707.0         2601.0                        No   \n",
       "3           61.0          112.0                        No   \n",
       "4          516.0         2219.0                        No   \n",
       "\n",
       "  polls_suggested_numplayers_1 polls_suggested_numplayers_10  \\\n",
       "0               NotRecommended                          None   \n",
       "1               NotRecommended                          None   \n",
       "2               NotRecommended                          None   \n",
       "3               NotRecommended                          None   \n",
       "4               NotRecommended                          None   \n",
       "\n",
       "  polls_suggested_numplayers_2 polls_suggested_numplayers_3  \\\n",
       "0               NotRecommended               NotRecommended   \n",
       "1               NotRecommended                  Recommended   \n",
       "2                  Recommended                         Best   \n",
       "3                  Recommended                         Best   \n",
       "4               NotRecommended                  Recommended   \n",
       "\n",
       "  polls_suggested_numplayers_4 polls_suggested_numplayers_5  \\\n",
       "0                  Recommended                         Best   \n",
       "1                         Best                         None   \n",
       "2                  Recommended                         None   \n",
       "3                         Best                         None   \n",
       "4                         Best                  Recommended   \n",
       "\n",
       "  polls_suggested_numplayers_6 polls_suggested_numplayers_7  \\\n",
       "0                         None                         None   \n",
       "1                         None                         None   \n",
       "2                         None                         None   \n",
       "3                         None                         None   \n",
       "4                  Recommended                         None   \n",
       "\n",
       "  polls_suggested_numplayers_8 polls_suggested_numplayers_9  \\\n",
       "0                         None                         None   \n",
       "1                         None                         None   \n",
       "2                         None                         None   \n",
       "3                         None                         None   \n",
       "4                         None                         None   \n",
       "\n",
       "  polls_suggested_numplayers_Over polls_suggested_playerage  \\\n",
       "0                  NotRecommended                        14   \n",
       "1                  NotRecommended                      None   \n",
       "2                  NotRecommended                        10   \n",
       "3                  NotRecommended                        14   \n",
       "4                  NotRecommended                        12   \n",
       "\n",
       "  attributes_t_links_concat_2____  stats_family_amiga_bayesaverage  \\\n",
       "0                            None                              NaN   \n",
       "1                            None                              NaN   \n",
       "2                            None                              NaN   \n",
       "3                            None                              NaN   \n",
       "4                            None                              NaN   \n",
       "\n",
       "   stats_family_amiga_pos  stats_family_arcade_bayesaverage  \\\n",
       "0                     NaN                               NaN   \n",
       "1                     NaN                               NaN   \n",
       "2                     NaN                               NaN   \n",
       "3                     NaN                               NaN   \n",
       "4                     NaN                               NaN   \n",
       "\n",
       "   stats_family_arcade_pos  stats_family_atarist_bayesaverage  \\\n",
       "0                      NaN                                NaN   \n",
       "1                      NaN                                NaN   \n",
       "2                      NaN                                NaN   \n",
       "3                      NaN                                NaN   \n",
       "4                      NaN                                NaN   \n",
       "\n",
       "   stats_family_atarist_pos  stats_family_commodore64_bayesaverage  \\\n",
       "0                       NaN                                    NaN   \n",
       "1                       NaN                                    NaN   \n",
       "2                       NaN                                    NaN   \n",
       "3                       NaN                                    NaN   \n",
       "4                       NaN                                    NaN   \n",
       "\n",
       "   stats_family_commodore64_pos  stats_subtype_rpgitem_bayesaverage  \\\n",
       "0                           NaN                                 NaN   \n",
       "1                           NaN                                 NaN   \n",
       "2                           NaN                                 NaN   \n",
       "3                           NaN                                 NaN   \n",
       "4                           NaN                                 NaN   \n",
       "\n",
       "   stats_subtype_rpgitem_pos  stats_subtype_videogame_bayesaverage  \\\n",
       "0                        NaN                                   NaN   \n",
       "1                        NaN                                   NaN   \n",
       "2                        NaN                                   NaN   \n",
       "3                        NaN                                   NaN   \n",
       "4                        NaN                                   NaN   \n",
       "\n",
       "   stats_subtype_videogame_pos  \n",
       "0                          NaN  \n",
       "1                          NaN  \n",
       "2                          NaN  \n",
       "3                          NaN  \n",
       "4                          NaN  "
      ]
     },
     "execution_count": 9,
     "metadata": {},
     "output_type": "execute_result"
    }
   ],
   "source": [
    "df_staging_meta_unfiltered.limit(5).toPandas()"
   ]
  },
  {
   "cell_type": "markdown",
   "metadata": {
    "editable": true
   },
   "source": [
    "##### Looks fine on first glance. We will filter for columns that are not related to rankings / statistics (we will get the daily rankings from bgg-ranking-historicals). We are mainly interested in details about player number, time etc."
   ]
  },
  {
   "cell_type": "code",
   "execution_count": 10,
   "metadata": {
    "editable": true
   },
   "outputs": [],
   "source": [
    "FILTER_COLS = ['game_id',                       \\\n",
    "               'details_name',                  \\\n",
    "               'game_type',                     \\\n",
    "               'details_maxplayers',            \\\n",
    "               'details_maxplaytime',           \\\n",
    "               'details_minage',                \\\n",
    "               'details_minplayers',            \\\n",
    "               'details_minplaytime',           \\\n",
    "               'details_playingtime',           \\\n",
    "               'details_yearpublished',         \\\n",
    "               'attributes_boardgameartist',    \\\n",
    "               'attributes_boardgamecategory',  \\\n",
    "               'attributes_boardgamedesigner',  \\\n",
    "               'attributes_boardgamefamily',    \\\n",
    "               'attributes_boardgamemechanic'   ]\n",
    "\n",
    "df_staging_meta = df_staging_meta_unfiltered.select(FILTER_COLS)"
   ]
  },
  {
   "cell_type": "code",
   "execution_count": 11,
   "metadata": {
    "editable": true
   },
   "outputs": [
    {
     "data": {
      "text/html": [
       "<div>\n",
       "<style scoped>\n",
       "    .dataframe tbody tr th:only-of-type {\n",
       "        vertical-align: middle;\n",
       "    }\n",
       "\n",
       "    .dataframe tbody tr th {\n",
       "        vertical-align: top;\n",
       "    }\n",
       "\n",
       "    .dataframe thead th {\n",
       "        text-align: right;\n",
       "    }\n",
       "</style>\n",
       "<table border=\"1\" class=\"dataframe\">\n",
       "  <thead>\n",
       "    <tr style=\"text-align: right;\">\n",
       "      <th></th>\n",
       "      <th>game_id</th>\n",
       "      <th>details_name</th>\n",
       "      <th>game_type</th>\n",
       "      <th>details_maxplayers</th>\n",
       "      <th>details_maxplaytime</th>\n",
       "      <th>details_minage</th>\n",
       "      <th>details_minplayers</th>\n",
       "      <th>details_minplaytime</th>\n",
       "      <th>details_playingtime</th>\n",
       "      <th>details_yearpublished</th>\n",
       "      <th>attributes_boardgameartist</th>\n",
       "      <th>attributes_boardgamecategory</th>\n",
       "      <th>attributes_boardgamedesigner</th>\n",
       "      <th>attributes_boardgamefamily</th>\n",
       "      <th>attributes_boardgamemechanic</th>\n",
       "    </tr>\n",
       "  </thead>\n",
       "  <tbody>\n",
       "    <tr>\n",
       "      <th>0</th>\n",
       "      <td>1</td>\n",
       "      <td>Die Macher</td>\n",
       "      <td>boardgame</td>\n",
       "      <td>5.0</td>\n",
       "      <td>240.0</td>\n",
       "      <td>14.0</td>\n",
       "      <td>3.0</td>\n",
       "      <td>240.0</td>\n",
       "      <td>240.0</td>\n",
       "      <td>1986.0</td>\n",
       "      <td>Marcus Gschwendtner</td>\n",
       "      <td>Economic,Negotiation,Political</td>\n",
       "      <td>Karl-Heinz Schmiel</td>\n",
       "      <td>Country: Germany,Valley Games Classic Line</td>\n",
       "      <td>Area Control / Area Influence,Auction/Bidding,...</td>\n",
       "    </tr>\n",
       "    <tr>\n",
       "      <th>1</th>\n",
       "      <td>2</td>\n",
       "      <td>Dragonmaster</td>\n",
       "      <td>boardgame</td>\n",
       "      <td>4.0</td>\n",
       "      <td>30.0</td>\n",
       "      <td>12.0</td>\n",
       "      <td>3.0</td>\n",
       "      <td>30.0</td>\n",
       "      <td>30.0</td>\n",
       "      <td>1981.0</td>\n",
       "      <td>Bob Pepper</td>\n",
       "      <td>Card Game,Fantasy</td>\n",
       "      <td>G. W. \"Jerry\" D'Arcey</td>\n",
       "      <td>Animals: Dragons</td>\n",
       "      <td>Trick-taking</td>\n",
       "    </tr>\n",
       "    <tr>\n",
       "      <th>2</th>\n",
       "      <td>3</td>\n",
       "      <td>Samurai</td>\n",
       "      <td>boardgame</td>\n",
       "      <td>4.0</td>\n",
       "      <td>60.0</td>\n",
       "      <td>10.0</td>\n",
       "      <td>2.0</td>\n",
       "      <td>30.0</td>\n",
       "      <td>60.0</td>\n",
       "      <td>1998.0</td>\n",
       "      <td>Franz Vohwinkel</td>\n",
       "      <td>Abstract Strategy,Medieval</td>\n",
       "      <td>Reiner Knizia</td>\n",
       "      <td>Asian Theme,Country: Japan,Knizia tile-laying ...</td>\n",
       "      <td>Area Control / Area Influence,Hand Management,...</td>\n",
       "    </tr>\n",
       "    <tr>\n",
       "      <th>3</th>\n",
       "      <td>4</td>\n",
       "      <td>Tal der Könige</td>\n",
       "      <td>boardgame</td>\n",
       "      <td>4.0</td>\n",
       "      <td>60.0</td>\n",
       "      <td>12.0</td>\n",
       "      <td>2.0</td>\n",
       "      <td>60.0</td>\n",
       "      <td>60.0</td>\n",
       "      <td>1992.0</td>\n",
       "      <td>None</td>\n",
       "      <td>Ancient</td>\n",
       "      <td>Christian Beierer</td>\n",
       "      <td>Country: Egypt,Promotional Board Games</td>\n",
       "      <td>Action Point Allowance System,Area Control / A...</td>\n",
       "    </tr>\n",
       "    <tr>\n",
       "      <th>4</th>\n",
       "      <td>5</td>\n",
       "      <td>Acquire</td>\n",
       "      <td>boardgame</td>\n",
       "      <td>6.0</td>\n",
       "      <td>90.0</td>\n",
       "      <td>12.0</td>\n",
       "      <td>3.0</td>\n",
       "      <td>90.0</td>\n",
       "      <td>90.0</td>\n",
       "      <td>1964.0</td>\n",
       "      <td>Scott Okumura,Peter Whitley</td>\n",
       "      <td>Economic</td>\n",
       "      <td>Sid Sackson</td>\n",
       "      <td>3M Bookshelf Series</td>\n",
       "      <td>Hand Management,Stock Holding,Tile Placement</td>\n",
       "    </tr>\n",
       "  </tbody>\n",
       "</table>\n",
       "</div>"
      ],
      "text/plain": [
       "  game_id    details_name  game_type  details_maxplayers  details_maxplaytime  \\\n",
       "0       1      Die Macher  boardgame                 5.0                240.0   \n",
       "1       2    Dragonmaster  boardgame                 4.0                 30.0   \n",
       "2       3         Samurai  boardgame                 4.0                 60.0   \n",
       "3       4  Tal der Könige  boardgame                 4.0                 60.0   \n",
       "4       5         Acquire  boardgame                 6.0                 90.0   \n",
       "\n",
       "   details_minage  details_minplayers  details_minplaytime  \\\n",
       "0            14.0                 3.0                240.0   \n",
       "1            12.0                 3.0                 30.0   \n",
       "2            10.0                 2.0                 30.0   \n",
       "3            12.0                 2.0                 60.0   \n",
       "4            12.0                 3.0                 90.0   \n",
       "\n",
       "   details_playingtime  details_yearpublished   attributes_boardgameartist  \\\n",
       "0                240.0                 1986.0          Marcus Gschwendtner   \n",
       "1                 30.0                 1981.0                   Bob Pepper   \n",
       "2                 60.0                 1998.0              Franz Vohwinkel   \n",
       "3                 60.0                 1992.0                         None   \n",
       "4                 90.0                 1964.0  Scott Okumura,Peter Whitley   \n",
       "\n",
       "     attributes_boardgamecategory attributes_boardgamedesigner  \\\n",
       "0  Economic,Negotiation,Political           Karl-Heinz Schmiel   \n",
       "1               Card Game,Fantasy        G. W. \"Jerry\" D'Arcey   \n",
       "2      Abstract Strategy,Medieval                Reiner Knizia   \n",
       "3                         Ancient            Christian Beierer   \n",
       "4                        Economic                  Sid Sackson   \n",
       "\n",
       "                          attributes_boardgamefamily  \\\n",
       "0         Country: Germany,Valley Games Classic Line   \n",
       "1                                   Animals: Dragons   \n",
       "2  Asian Theme,Country: Japan,Knizia tile-laying ...   \n",
       "3             Country: Egypt,Promotional Board Games   \n",
       "4                                3M Bookshelf Series   \n",
       "\n",
       "                        attributes_boardgamemechanic  \n",
       "0  Area Control / Area Influence,Auction/Bidding,...  \n",
       "1                                       Trick-taking  \n",
       "2  Area Control / Area Influence,Hand Management,...  \n",
       "3  Action Point Allowance System,Area Control / A...  \n",
       "4       Hand Management,Stock Holding,Tile Placement  "
      ]
     },
     "execution_count": 11,
     "metadata": {},
     "output_type": "execute_result"
    }
   ],
   "source": [
    "df_staging_meta.limit(5).toPandas()"
   ]
  },
  {
   "cell_type": "markdown",
   "metadata": {
    "editable": true
   },
   "source": [
    "##### Note that the columns details_maxplayers, details_maxplaytime, details_minage, details_minplayers, details_minplaytime, details_playingtime are given as double. We will cast to integer."
   ]
  },
  {
   "cell_type": "code",
   "execution_count": 12,
   "metadata": {
    "editable": true
   },
   "outputs": [],
   "source": [
    "COL_CAST_TO_INT = ['details_maxplayers',   \\\n",
    "                   'details_maxplaytime',  \\\n",
    "                   'details_minage',       \\\n",
    "                   'details_minplayers',   \\\n",
    "                   'details_minplaytime',  \\\n",
    "                   'details_playingtime',  \\\n",
    "                   'details_yearpublished' ]\n",
    "\n",
    "for col in COL_CAST_TO_INT:\n",
    "    df_staging_meta = df_staging_meta.withColumn(col, df_staging_meta[col].cast(\"int\"))"
   ]
  },
  {
   "cell_type": "code",
   "execution_count": 13,
   "metadata": {
    "editable": true
   },
   "outputs": [
    {
     "data": {
      "text/html": [
       "<div>\n",
       "<style scoped>\n",
       "    .dataframe tbody tr th:only-of-type {\n",
       "        vertical-align: middle;\n",
       "    }\n",
       "\n",
       "    .dataframe tbody tr th {\n",
       "        vertical-align: top;\n",
       "    }\n",
       "\n",
       "    .dataframe thead th {\n",
       "        text-align: right;\n",
       "    }\n",
       "</style>\n",
       "<table border=\"1\" class=\"dataframe\">\n",
       "  <thead>\n",
       "    <tr style=\"text-align: right;\">\n",
       "      <th></th>\n",
       "      <th>game_id</th>\n",
       "      <th>details_name</th>\n",
       "      <th>game_type</th>\n",
       "      <th>details_maxplayers</th>\n",
       "      <th>details_maxplaytime</th>\n",
       "      <th>details_minage</th>\n",
       "      <th>details_minplayers</th>\n",
       "      <th>details_minplaytime</th>\n",
       "      <th>details_playingtime</th>\n",
       "      <th>details_yearpublished</th>\n",
       "      <th>attributes_boardgameartist</th>\n",
       "      <th>attributes_boardgamecategory</th>\n",
       "      <th>attributes_boardgamedesigner</th>\n",
       "      <th>attributes_boardgamefamily</th>\n",
       "      <th>attributes_boardgamemechanic</th>\n",
       "    </tr>\n",
       "  </thead>\n",
       "  <tbody>\n",
       "    <tr>\n",
       "      <th>0</th>\n",
       "      <td>1</td>\n",
       "      <td>Die Macher</td>\n",
       "      <td>boardgame</td>\n",
       "      <td>5</td>\n",
       "      <td>240</td>\n",
       "      <td>14</td>\n",
       "      <td>3</td>\n",
       "      <td>240</td>\n",
       "      <td>240</td>\n",
       "      <td>1986</td>\n",
       "      <td>Marcus Gschwendtner</td>\n",
       "      <td>Economic,Negotiation,Political</td>\n",
       "      <td>Karl-Heinz Schmiel</td>\n",
       "      <td>Country: Germany,Valley Games Classic Line</td>\n",
       "      <td>Area Control / Area Influence,Auction/Bidding,...</td>\n",
       "    </tr>\n",
       "    <tr>\n",
       "      <th>1</th>\n",
       "      <td>2</td>\n",
       "      <td>Dragonmaster</td>\n",
       "      <td>boardgame</td>\n",
       "      <td>4</td>\n",
       "      <td>30</td>\n",
       "      <td>12</td>\n",
       "      <td>3</td>\n",
       "      <td>30</td>\n",
       "      <td>30</td>\n",
       "      <td>1981</td>\n",
       "      <td>Bob Pepper</td>\n",
       "      <td>Card Game,Fantasy</td>\n",
       "      <td>G. W. \"Jerry\" D'Arcey</td>\n",
       "      <td>Animals: Dragons</td>\n",
       "      <td>Trick-taking</td>\n",
       "    </tr>\n",
       "    <tr>\n",
       "      <th>2</th>\n",
       "      <td>3</td>\n",
       "      <td>Samurai</td>\n",
       "      <td>boardgame</td>\n",
       "      <td>4</td>\n",
       "      <td>60</td>\n",
       "      <td>10</td>\n",
       "      <td>2</td>\n",
       "      <td>30</td>\n",
       "      <td>60</td>\n",
       "      <td>1998</td>\n",
       "      <td>Franz Vohwinkel</td>\n",
       "      <td>Abstract Strategy,Medieval</td>\n",
       "      <td>Reiner Knizia</td>\n",
       "      <td>Asian Theme,Country: Japan,Knizia tile-laying ...</td>\n",
       "      <td>Area Control / Area Influence,Hand Management,...</td>\n",
       "    </tr>\n",
       "    <tr>\n",
       "      <th>3</th>\n",
       "      <td>4</td>\n",
       "      <td>Tal der Könige</td>\n",
       "      <td>boardgame</td>\n",
       "      <td>4</td>\n",
       "      <td>60</td>\n",
       "      <td>12</td>\n",
       "      <td>2</td>\n",
       "      <td>60</td>\n",
       "      <td>60</td>\n",
       "      <td>1992</td>\n",
       "      <td>None</td>\n",
       "      <td>Ancient</td>\n",
       "      <td>Christian Beierer</td>\n",
       "      <td>Country: Egypt,Promotional Board Games</td>\n",
       "      <td>Action Point Allowance System,Area Control / A...</td>\n",
       "    </tr>\n",
       "    <tr>\n",
       "      <th>4</th>\n",
       "      <td>5</td>\n",
       "      <td>Acquire</td>\n",
       "      <td>boardgame</td>\n",
       "      <td>6</td>\n",
       "      <td>90</td>\n",
       "      <td>12</td>\n",
       "      <td>3</td>\n",
       "      <td>90</td>\n",
       "      <td>90</td>\n",
       "      <td>1964</td>\n",
       "      <td>Scott Okumura,Peter Whitley</td>\n",
       "      <td>Economic</td>\n",
       "      <td>Sid Sackson</td>\n",
       "      <td>3M Bookshelf Series</td>\n",
       "      <td>Hand Management,Stock Holding,Tile Placement</td>\n",
       "    </tr>\n",
       "  </tbody>\n",
       "</table>\n",
       "</div>"
      ],
      "text/plain": [
       "  game_id    details_name  game_type  details_maxplayers  details_maxplaytime  \\\n",
       "0       1      Die Macher  boardgame                   5                  240   \n",
       "1       2    Dragonmaster  boardgame                   4                   30   \n",
       "2       3         Samurai  boardgame                   4                   60   \n",
       "3       4  Tal der Könige  boardgame                   4                   60   \n",
       "4       5         Acquire  boardgame                   6                   90   \n",
       "\n",
       "   details_minage  details_minplayers  details_minplaytime  \\\n",
       "0              14                   3                  240   \n",
       "1              12                   3                   30   \n",
       "2              10                   2                   30   \n",
       "3              12                   2                   60   \n",
       "4              12                   3                   90   \n",
       "\n",
       "   details_playingtime  details_yearpublished   attributes_boardgameartist  \\\n",
       "0                  240                   1986          Marcus Gschwendtner   \n",
       "1                   30                   1981                   Bob Pepper   \n",
       "2                   60                   1998              Franz Vohwinkel   \n",
       "3                   60                   1992                         None   \n",
       "4                   90                   1964  Scott Okumura,Peter Whitley   \n",
       "\n",
       "     attributes_boardgamecategory attributes_boardgamedesigner  \\\n",
       "0  Economic,Negotiation,Political           Karl-Heinz Schmiel   \n",
       "1               Card Game,Fantasy        G. W. \"Jerry\" D'Arcey   \n",
       "2      Abstract Strategy,Medieval                Reiner Knizia   \n",
       "3                         Ancient            Christian Beierer   \n",
       "4                        Economic                  Sid Sackson   \n",
       "\n",
       "                          attributes_boardgamefamily  \\\n",
       "0         Country: Germany,Valley Games Classic Line   \n",
       "1                                   Animals: Dragons   \n",
       "2  Asian Theme,Country: Japan,Knizia tile-laying ...   \n",
       "3             Country: Egypt,Promotional Board Games   \n",
       "4                                3M Bookshelf Series   \n",
       "\n",
       "                        attributes_boardgamemechanic  \n",
       "0  Area Control / Area Influence,Auction/Bidding,...  \n",
       "1                                       Trick-taking  \n",
       "2  Area Control / Area Influence,Hand Management,...  \n",
       "3  Action Point Allowance System,Area Control / A...  \n",
       "4       Hand Management,Stock Holding,Tile Placement  "
      ]
     },
     "execution_count": 13,
     "metadata": {},
     "output_type": "execute_result"
    }
   ],
   "source": [
    "df_staging_meta.limit(5).toPandas()"
   ]
  },
  {
   "cell_type": "markdown",
   "metadata": {
    "editable": true
   },
   "source": [
    "##### Count number of NaN values."
   ]
  },
  {
   "cell_type": "code",
   "execution_count": 14,
   "metadata": {
    "editable": true
   },
   "outputs": [
    {
     "data": {
      "text/html": [
       "<div>\n",
       "<style scoped>\n",
       "    .dataframe tbody tr th:only-of-type {\n",
       "        vertical-align: middle;\n",
       "    }\n",
       "\n",
       "    .dataframe tbody tr th {\n",
       "        vertical-align: top;\n",
       "    }\n",
       "\n",
       "    .dataframe thead th {\n",
       "        text-align: right;\n",
       "    }\n",
       "</style>\n",
       "<table border=\"1\" class=\"dataframe\">\n",
       "  <thead>\n",
       "    <tr style=\"text-align: right;\">\n",
       "      <th></th>\n",
       "      <th>game_id</th>\n",
       "      <th>details_name</th>\n",
       "      <th>game_type</th>\n",
       "      <th>details_maxplayers</th>\n",
       "      <th>details_maxplaytime</th>\n",
       "      <th>details_minage</th>\n",
       "      <th>details_minplayers</th>\n",
       "      <th>details_minplaytime</th>\n",
       "      <th>details_playingtime</th>\n",
       "      <th>details_yearpublished</th>\n",
       "      <th>attributes_boardgameartist</th>\n",
       "      <th>attributes_boardgamecategory</th>\n",
       "      <th>attributes_boardgamedesigner</th>\n",
       "      <th>attributes_boardgamefamily</th>\n",
       "      <th>attributes_boardgamemechanic</th>\n",
       "    </tr>\n",
       "  </thead>\n",
       "  <tbody>\n",
       "    <tr>\n",
       "      <th>0</th>\n",
       "      <td>0</td>\n",
       "      <td>0</td>\n",
       "      <td>0</td>\n",
       "      <td>0</td>\n",
       "      <td>0</td>\n",
       "      <td>0</td>\n",
       "      <td>0</td>\n",
       "      <td>0</td>\n",
       "      <td>0</td>\n",
       "      <td>0</td>\n",
       "      <td>0</td>\n",
       "      <td>0</td>\n",
       "      <td>0</td>\n",
       "      <td>0</td>\n",
       "      <td>0</td>\n",
       "    </tr>\n",
       "  </tbody>\n",
       "</table>\n",
       "</div>"
      ],
      "text/plain": [
       "   game_id  details_name  game_type  details_maxplayers  details_maxplaytime  \\\n",
       "0        0             0          0                   0                    0   \n",
       "\n",
       "   details_minage  details_minplayers  details_minplaytime  \\\n",
       "0               0                   0                    0   \n",
       "\n",
       "   details_playingtime  details_yearpublished  attributes_boardgameartist  \\\n",
       "0                    0                      0                           0   \n",
       "\n",
       "   attributes_boardgamecategory  attributes_boardgamedesigner  \\\n",
       "0                             0                             0   \n",
       "\n",
       "   attributes_boardgamefamily  attributes_boardgamemechanic  \n",
       "0                           0                             0  "
      ]
     },
     "execution_count": 14,
     "metadata": {},
     "output_type": "execute_result"
    }
   ],
   "source": [
    "df_staging_meta.select([count(when(isnan(col), col)).alias(col) for col in df_staging_meta.columns]).toPandas()"
   ]
  },
  {
   "cell_type": "markdown",
   "metadata": {
    "editable": true
   },
   "source": [
    "##### Looks fine. Let's also look at basic stats"
   ]
  },
  {
   "cell_type": "code",
   "execution_count": 15,
   "metadata": {
    "editable": true
   },
   "outputs": [],
   "source": [
    "meta_described = df_staging_meta.describe()"
   ]
  },
  {
   "cell_type": "code",
   "execution_count": 16,
   "metadata": {
    "editable": true
   },
   "outputs": [
    {
     "name": "stdout",
     "output_type": "stream",
     "text": [
      "+-------+-----------------+------------------------+------------------+------------------+-------------------+------------------+------------------+-------------------+-------------------+\n",
      "|summary|          game_id|            details_name|         game_type|details_maxplayers|details_maxplaytime|    details_minage|details_minplayers|details_minplaytime|details_playingtime|\n",
      "+-------+-----------------+------------------------+------------------+------------------+-------------------+------------------+------------------+-------------------+-------------------+\n",
      "|  count|            90400|                   90400|             90400|             90400|              90400|             90400|             90400|              90400|              90400|\n",
      "|   mean| 88667.6744358407|                Infinity|              null|5.7318141592920355|  51.77201327433628| 7.120907079646018| 1.982466814159292|  46.10297566371681|  51.77201327433628|\n",
      "| stddev|70143.68048686023|                     NaN|              null|53.448666016282466|  331.6518235422732|5.0567291276528525|0.8603607889604452|  316.3080902122338|  331.6518235422732|\n",
      "|    min|                1|         !Arriba Espana!|         boardgame|                 0|                  0|                 0|                 0|                  0|                  0|\n",
      "|    max|            99999|鬼戏•巅峰之争 Ghost Play|boardgameexpansion|             11299|              60120|               120|                50|              60120|              60120|\n",
      "+-------+-----------------+------------------------+------------------+------------------+-------------------+------------------+------------------+-------------------+-------------------+\n",
      "\n"
     ]
    }
   ],
   "source": [
    "meta_described[meta_described.columns[:10]].show()"
   ]
  },
  {
   "cell_type": "code",
   "execution_count": 17,
   "metadata": {
    "editable": true
   },
   "outputs": [
    {
     "name": "stdout",
     "output_type": "stream",
     "text": [
      "+---------------------+--------------------------+----------------------------+----------------------------+--------------------------+----------------------------+\n",
      "|details_yearpublished|attributes_boardgameartist|attributes_boardgamecategory|attributes_boardgamedesigner|attributes_boardgamefamily|attributes_boardgamemechanic|\n",
      "+---------------------+--------------------------+----------------------------+----------------------------+--------------------------+----------------------------+\n",
      "|                90400|                     34665|                       88869|                       78517|                     50168|                       75163|\n",
      "|   1813.9963827433628|                      null|                        null|                         7.7|                      null|                        null|\n",
      "|    580.7408401570714|                      null|                        null|                         NaN|                      null|                        null|\n",
      "|                -3500|      \"Captain\" Robert ...|           Abstract Strategy|        \"Captain\" Robert ...|      \"4x\" series for p...|                      Acting|\n",
      "|                 2019|             麦島 mugijima|                     Zombies|        黒井　龍 (Ryu Kuroi)|             Średniowiecze|            Worker Placement|\n",
      "+---------------------+--------------------------+----------------------------+----------------------------+--------------------------+----------------------------+\n",
      "\n"
     ]
    }
   ],
   "source": [
    "meta_described[meta_described.columns[10:]].show()"
   ]
  },
  {
   "cell_type": "markdown",
   "metadata": {
    "editable": true
   },
   "source": [
    "##### Looks fine (almost). Apparently there is at least one entry which does not carry a valid yearpublished."
   ]
  },
  {
   "cell_type": "code",
   "execution_count": 18,
   "metadata": {
    "editable": true
   },
   "outputs": [
    {
     "data": {
      "text/plain": [
       "22"
      ]
     },
     "execution_count": 18,
     "metadata": {},
     "output_type": "execute_result"
    }
   ],
   "source": [
    "df_staging_meta.filter(\"details_yearpublished < 0\").count()"
   ]
  },
  {
   "cell_type": "code",
   "execution_count": 19,
   "metadata": {
    "editable": true
   },
   "outputs": [
    {
     "data": {
      "text/html": [
       "<div>\n",
       "<style scoped>\n",
       "    .dataframe tbody tr th:only-of-type {\n",
       "        vertical-align: middle;\n",
       "    }\n",
       "\n",
       "    .dataframe tbody tr th {\n",
       "        vertical-align: top;\n",
       "    }\n",
       "\n",
       "    .dataframe thead th {\n",
       "        text-align: right;\n",
       "    }\n",
       "</style>\n",
       "<table border=\"1\" class=\"dataframe\">\n",
       "  <thead>\n",
       "    <tr style=\"text-align: right;\">\n",
       "      <th></th>\n",
       "      <th>game_id</th>\n",
       "      <th>details_name</th>\n",
       "      <th>game_type</th>\n",
       "      <th>details_maxplayers</th>\n",
       "      <th>details_maxplaytime</th>\n",
       "      <th>details_minage</th>\n",
       "      <th>details_minplayers</th>\n",
       "      <th>details_minplaytime</th>\n",
       "      <th>details_playingtime</th>\n",
       "      <th>details_yearpublished</th>\n",
       "      <th>attributes_boardgameartist</th>\n",
       "      <th>attributes_boardgamecategory</th>\n",
       "      <th>attributes_boardgamedesigner</th>\n",
       "      <th>attributes_boardgamefamily</th>\n",
       "      <th>attributes_boardgamemechanic</th>\n",
       "    </tr>\n",
       "  </thead>\n",
       "  <tbody>\n",
       "    <tr>\n",
       "      <th>0</th>\n",
       "      <td>188</td>\n",
       "      <td>Go</td>\n",
       "      <td>boardgame</td>\n",
       "      <td>2</td>\n",
       "      <td>180</td>\n",
       "      <td>8</td>\n",
       "      <td>2</td>\n",
       "      <td>30</td>\n",
       "      <td>180</td>\n",
       "      <td>-2200</td>\n",
       "      <td>Barbro Hennius,Norman Sommer</td>\n",
       "      <td>Abstract Strategy</td>\n",
       "      <td>(Uncredited)</td>\n",
       "      <td>3M Bookshelf Series,Combinatorial,Ravensburger...</td>\n",
       "      <td>Area Enclosure</td>\n",
       "    </tr>\n",
       "    <tr>\n",
       "      <th>1</th>\n",
       "      <td>1602</td>\n",
       "      <td>The Royal Game of Ur</td>\n",
       "      <td>boardgame</td>\n",
       "      <td>2</td>\n",
       "      <td>30</td>\n",
       "      <td>10</td>\n",
       "      <td>2</td>\n",
       "      <td>30</td>\n",
       "      <td>30</td>\n",
       "      <td>-2500</td>\n",
       "      <td>None</td>\n",
       "      <td>Abstract Strategy,Ancient,Dice,Racing</td>\n",
       "      <td>(Uncredited)</td>\n",
       "      <td>Country: Iraq,The Reliquary Collection</td>\n",
       "      <td>Dice Rolling,Roll / Spin and Move</td>\n",
       "    </tr>\n",
       "    <tr>\n",
       "      <th>2</th>\n",
       "      <td>2397</td>\n",
       "      <td>Backgammon</td>\n",
       "      <td>boardgame</td>\n",
       "      <td>2</td>\n",
       "      <td>30</td>\n",
       "      <td>8</td>\n",
       "      <td>2</td>\n",
       "      <td>30</td>\n",
       "      <td>30</td>\n",
       "      <td>-3000</td>\n",
       "      <td>(Uncredited),Willem Cornelisz Duyster</td>\n",
       "      <td>Abstract Strategy,Dice</td>\n",
       "      <td>(Uncredited)</td>\n",
       "      <td>3M Bookshelf Series,Characters: Austin Powers,...</td>\n",
       "      <td>Betting/Wagering,Roll / Spin and Move</td>\n",
       "    </tr>\n",
       "    <tr>\n",
       "      <th>3</th>\n",
       "      <td>2399</td>\n",
       "      <td>Senet</td>\n",
       "      <td>boardgame</td>\n",
       "      <td>2</td>\n",
       "      <td>30</td>\n",
       "      <td>6</td>\n",
       "      <td>2</td>\n",
       "      <td>30</td>\n",
       "      <td>30</td>\n",
       "      <td>-3500</td>\n",
       "      <td>Johan Andreasson</td>\n",
       "      <td>Abstract Strategy,Dice,Religious</td>\n",
       "      <td>(Uncredited)</td>\n",
       "      <td>Continent: Africa,Country: Egypt,Gammon</td>\n",
       "      <td>Dice Rolling,Roll / Spin and Move</td>\n",
       "    </tr>\n",
       "    <tr>\n",
       "      <th>4</th>\n",
       "      <td>2912</td>\n",
       "      <td>Hounds and Jackals: Game of the Pharaohs</td>\n",
       "      <td>boardgame</td>\n",
       "      <td>2</td>\n",
       "      <td>20</td>\n",
       "      <td>6</td>\n",
       "      <td>2</td>\n",
       "      <td>20</td>\n",
       "      <td>20</td>\n",
       "      <td>-2000</td>\n",
       "      <td>None</td>\n",
       "      <td>Ancient,Dice,Racing</td>\n",
       "      <td>(Uncredited)</td>\n",
       "      <td>Animals: Dogs,Country: Egypt</td>\n",
       "      <td>Roll / Spin and Move</td>\n",
       "    </tr>\n",
       "  </tbody>\n",
       "</table>\n",
       "</div>"
      ],
      "text/plain": [
       "  game_id                              details_name  game_type  \\\n",
       "0     188                                        Go  boardgame   \n",
       "1    1602                      The Royal Game of Ur  boardgame   \n",
       "2    2397                                Backgammon  boardgame   \n",
       "3    2399                                     Senet  boardgame   \n",
       "4    2912  Hounds and Jackals: Game of the Pharaohs  boardgame   \n",
       "\n",
       "   details_maxplayers  details_maxplaytime  details_minage  \\\n",
       "0                   2                  180               8   \n",
       "1                   2                   30              10   \n",
       "2                   2                   30               8   \n",
       "3                   2                   30               6   \n",
       "4                   2                   20               6   \n",
       "\n",
       "   details_minplayers  details_minplaytime  details_playingtime  \\\n",
       "0                   2                   30                  180   \n",
       "1                   2                   30                   30   \n",
       "2                   2                   30                   30   \n",
       "3                   2                   30                   30   \n",
       "4                   2                   20                   20   \n",
       "\n",
       "   details_yearpublished             attributes_boardgameartist  \\\n",
       "0                  -2200           Barbro Hennius,Norman Sommer   \n",
       "1                  -2500                                   None   \n",
       "2                  -3000  (Uncredited),Willem Cornelisz Duyster   \n",
       "3                  -3500                       Johan Andreasson   \n",
       "4                  -2000                                   None   \n",
       "\n",
       "            attributes_boardgamecategory attributes_boardgamedesigner  \\\n",
       "0                      Abstract Strategy                 (Uncredited)   \n",
       "1  Abstract Strategy,Ancient,Dice,Racing                 (Uncredited)   \n",
       "2                 Abstract Strategy,Dice                 (Uncredited)   \n",
       "3       Abstract Strategy,Dice,Religious                 (Uncredited)   \n",
       "4                    Ancient,Dice,Racing                 (Uncredited)   \n",
       "\n",
       "                          attributes_boardgamefamily  \\\n",
       "0  3M Bookshelf Series,Combinatorial,Ravensburger...   \n",
       "1             Country: Iraq,The Reliquary Collection   \n",
       "2  3M Bookshelf Series,Characters: Austin Powers,...   \n",
       "3            Continent: Africa,Country: Egypt,Gammon   \n",
       "4                       Animals: Dogs,Country: Egypt   \n",
       "\n",
       "            attributes_boardgamemechanic  \n",
       "0                         Area Enclosure  \n",
       "1      Dice Rolling,Roll / Spin and Move  \n",
       "2  Betting/Wagering,Roll / Spin and Move  \n",
       "3      Dice Rolling,Roll / Spin and Move  \n",
       "4                   Roll / Spin and Move  "
      ]
     },
     "execution_count": 19,
     "metadata": {},
     "output_type": "execute_result"
    }
   ],
   "source": [
    "df_staging_meta.filter(\"details_yearpublished < 0\").limit(5).toPandas()"
   ]
  },
  {
   "cell_type": "markdown",
   "metadata": {
    "editable": true
   },
   "source": [
    "##### Seemed wrong at first glance but looking at the entries, negative values make sense for really old games like Go."
   ]
  },
  {
   "cell_type": "markdown",
   "metadata": {
    "editable": true
   },
   "source": [
    "#### Cleaning Steps - Ranking data"
   ]
  },
  {
   "cell_type": "code",
   "execution_count": 20,
   "metadata": {
    "editable": true
   },
   "outputs": [
    {
     "name": "stdout",
     "output_type": "stream",
     "text": [
      "+---+----+----+----+-------+-------------+-----------+---+---------+--------+\n",
      "| ID|Name|Year|Rank|Average|Bayes average|Users rated|URL|Thumbnail|filename|\n",
      "+---+----+----+----+-------+-------------+-----------+---+---------+--------+\n",
      "|  0|   0|   0|   0|      0|            0|          0|  0|        0|       0|\n",
      "+---+----+----+----+-------+-------------+-----------+---+---------+--------+\n",
      "\n"
     ]
    }
   ],
   "source": [
    "df_staging_ranking_unfiltered.select([count(when(isnan(col), col)).alias(col) for col in df_staging_ranking_unfiltered.columns]).show()"
   ]
  },
  {
   "cell_type": "markdown",
   "metadata": {
    "editable": true
   },
   "source": [
    "##### No NaN values in df_ranking so no steps necessary."
   ]
  },
  {
   "cell_type": "code",
   "execution_count": 21,
   "metadata": {
    "editable": true
   },
   "outputs": [],
   "source": [
    "ranking_described = df_staging_ranking_unfiltered.describe()"
   ]
  },
  {
   "cell_type": "code",
   "execution_count": 22,
   "metadata": {
    "editable": true
   },
   "outputs": [
    {
     "name": "stdout",
     "output_type": "stream",
     "text": [
      "+-------+----------------+------------------------+------------------+-----------------+------------------+-------------------+------------------+--------------------+--------------------+--------------------+\n",
      "|summary|              ID|                    Name|              Year|             Rank|           Average|      Bayes average|       Users rated|                 URL|           Thumbnail|            filename|\n",
      "+-------+----------------+------------------------+------------------+-----------------+------------------+-------------------+------------------+--------------------+--------------------+--------------------+\n",
      "|  count|         2243307|                 2243307|           2243307|          2243307|           2243307|            2243307|           2243307|             2243307|             2240165|             2243307|\n",
      "|   mean|92974.4586920114|                Infinity|1986.0322889377155|8976.399270362906| 6.373496824108263|  5.694996599663177| 787.2662783114394|                null|                null|                null|\n",
      "| stddev| 88643.149963892|                     NaN|190.22772888989743|5185.124246467115|0.9195698764730028|0.37528449942067676|3161.3034056987613|                null|                null|                null|\n",
      "|    min|               1|    \"\"\"La Garde recul...|                 0|                1|              1.05|              3.484|                30|/boardgame/1/die-...|https://cf.geekdo...|file:/home/worksp...|\n",
      "|    max|          295770|老師敬服 (Master of R...|              3500|            18352|              9.64|              8.597|             90283|/boardgame/99992/...|https://cf.geekdo...|file:/home/worksp...|\n",
      "+-------+----------------+------------------------+------------------+-----------------+------------------+-------------------+------------------+--------------------+--------------------+--------------------+\n",
      "\n"
     ]
    }
   ],
   "source": [
    "ranking_described.show()"
   ]
  },
  {
   "cell_type": "code",
   "execution_count": 23,
   "metadata": {
    "editable": true
   },
   "outputs": [
    {
     "data": {
      "text/plain": [
       "687"
      ]
     },
     "execution_count": 23,
     "metadata": {},
     "output_type": "execute_result"
    }
   ],
   "source": [
    "df_staging_ranking_unfiltered.filter(\"Year > 2020\").count()"
   ]
  },
  {
   "cell_type": "code",
   "execution_count": 24,
   "metadata": {
    "editable": true
   },
   "outputs": [
    {
     "data": {
      "text/html": [
       "<div>\n",
       "<style scoped>\n",
       "    .dataframe tbody tr th:only-of-type {\n",
       "        vertical-align: middle;\n",
       "    }\n",
       "\n",
       "    .dataframe tbody tr th {\n",
       "        vertical-align: top;\n",
       "    }\n",
       "\n",
       "    .dataframe thead th {\n",
       "        text-align: right;\n",
       "    }\n",
       "</style>\n",
       "<table border=\"1\" class=\"dataframe\">\n",
       "  <thead>\n",
       "    <tr style=\"text-align: right;\">\n",
       "      <th></th>\n",
       "      <th>ID</th>\n",
       "      <th>Name</th>\n",
       "      <th>Year</th>\n",
       "      <th>Rank</th>\n",
       "      <th>Average</th>\n",
       "      <th>Bayes average</th>\n",
       "      <th>Users rated</th>\n",
       "      <th>URL</th>\n",
       "      <th>Thumbnail</th>\n",
       "      <th>filename</th>\n",
       "    </tr>\n",
       "  </thead>\n",
       "  <tbody>\n",
       "    <tr>\n",
       "      <th>0</th>\n",
       "      <td>188</td>\n",
       "      <td>Go</td>\n",
       "      <td>2200</td>\n",
       "      <td>152</td>\n",
       "      <td>7.64</td>\n",
       "      <td>7.340</td>\n",
       "      <td>13715</td>\n",
       "      <td>/boardgame/188/go</td>\n",
       "      <td>https://cf.geekdo-images.com/micro/img/ncEmbZZ...</td>\n",
       "      <td>file:/home/workspace/bgg-ranking-historicals/2...</td>\n",
       "    </tr>\n",
       "    <tr>\n",
       "      <th>1</th>\n",
       "      <td>2397</td>\n",
       "      <td>Backgammon</td>\n",
       "      <td>3000</td>\n",
       "      <td>1217</td>\n",
       "      <td>6.53</td>\n",
       "      <td>6.358</td>\n",
       "      <td>10664</td>\n",
       "      <td>/boardgame/2397/backgammon</td>\n",
       "      <td>https://cf.geekdo-images.com/micro/img/bWZaJZy...</td>\n",
       "      <td>file:/home/workspace/bgg-ranking-historicals/2...</td>\n",
       "    </tr>\n",
       "    <tr>\n",
       "      <th>2</th>\n",
       "      <td>2399</td>\n",
       "      <td>Senet</td>\n",
       "      <td>3500</td>\n",
       "      <td>6751</td>\n",
       "      <td>5.90</td>\n",
       "      <td>5.598</td>\n",
       "      <td>590</td>\n",
       "      <td>/boardgame/2399/senet</td>\n",
       "      <td>https://cf.geekdo-images.com/micro/img/RMaALim...</td>\n",
       "      <td>file:/home/workspace/bgg-ranking-historicals/2...</td>\n",
       "    </tr>\n",
       "    <tr>\n",
       "      <th>3</th>\n",
       "      <td>281258</td>\n",
       "      <td>Sub Terra II: Inferno's Edge</td>\n",
       "      <td>2021</td>\n",
       "      <td>9152</td>\n",
       "      <td>8.58</td>\n",
       "      <td>5.553</td>\n",
       "      <td>51</td>\n",
       "      <td>/boardgame/281258/sub-terra-ii-infernos-edge</td>\n",
       "      <td>https://cf.geekdo-images.com/micro/img/dMc_drC...</td>\n",
       "      <td>file:/home/workspace/bgg-ranking-historicals/2...</td>\n",
       "    </tr>\n",
       "    <tr>\n",
       "      <th>4</th>\n",
       "      <td>242705</td>\n",
       "      <td>Aeon Trespass: Odyssey</td>\n",
       "      <td>2021</td>\n",
       "      <td>10006</td>\n",
       "      <td>8.53</td>\n",
       "      <td>5.543</td>\n",
       "      <td>41</td>\n",
       "      <td>/boardgame/242705/aeon-trespass-odyssey</td>\n",
       "      <td>https://cf.geekdo-images.com/micro/img/lMPwOlC...</td>\n",
       "      <td>file:/home/workspace/bgg-ranking-historicals/2...</td>\n",
       "    </tr>\n",
       "  </tbody>\n",
       "</table>\n",
       "</div>"
      ],
      "text/plain": [
       "       ID                          Name  Year   Rank  Average  Bayes average  \\\n",
       "0     188                            Go  2200    152     7.64          7.340   \n",
       "1    2397                    Backgammon  3000   1217     6.53          6.358   \n",
       "2    2399                         Senet  3500   6751     5.90          5.598   \n",
       "3  281258  Sub Terra II: Inferno's Edge  2021   9152     8.58          5.553   \n",
       "4  242705        Aeon Trespass: Odyssey  2021  10006     8.53          5.543   \n",
       "\n",
       "   Users rated                                           URL  \\\n",
       "0        13715                             /boardgame/188/go   \n",
       "1        10664                    /boardgame/2397/backgammon   \n",
       "2          590                         /boardgame/2399/senet   \n",
       "3           51  /boardgame/281258/sub-terra-ii-infernos-edge   \n",
       "4           41       /boardgame/242705/aeon-trespass-odyssey   \n",
       "\n",
       "                                           Thumbnail  \\\n",
       "0  https://cf.geekdo-images.com/micro/img/ncEmbZZ...   \n",
       "1  https://cf.geekdo-images.com/micro/img/bWZaJZy...   \n",
       "2  https://cf.geekdo-images.com/micro/img/RMaALim...   \n",
       "3  https://cf.geekdo-images.com/micro/img/dMc_drC...   \n",
       "4  https://cf.geekdo-images.com/micro/img/lMPwOlC...   \n",
       "\n",
       "                                            filename  \n",
       "0  file:/home/workspace/bgg-ranking-historicals/2...  \n",
       "1  file:/home/workspace/bgg-ranking-historicals/2...  \n",
       "2  file:/home/workspace/bgg-ranking-historicals/2...  \n",
       "3  file:/home/workspace/bgg-ranking-historicals/2...  \n",
       "4  file:/home/workspace/bgg-ranking-historicals/2...  "
      ]
     },
     "execution_count": 24,
     "metadata": {},
     "output_type": "execute_result"
    }
   ],
   "source": [
    "df_staging_ranking_unfiltered.filter(\"Year > 2020\").limit(5).toPandas()"
   ]
  },
  {
   "cell_type": "markdown",
   "metadata": {
    "editable": true
   },
   "source": [
    "##### Apparently here some of the years do not make sense. Having a look at the input files we can confirm that it is a mistake in the source files. Since we have the year in the meta data, we will drop this column here. We will also drop other columns which are not of interest for our purposes."
   ]
  },
  {
   "cell_type": "code",
   "execution_count": 25,
   "metadata": {
    "editable": true
   },
   "outputs": [],
   "source": [
    "FILTER_COLS = ['ID',            \\\n",
    "               'Name',          \\\n",
    "               'Rank',          \\\n",
    "               'Average',       \\\n",
    "               'Bayes average', \\\n",
    "               'Users rated',   \\\n",
    "               'filename'       ]\n",
    "\n",
    "df_staging_ranking = df_staging_ranking_unfiltered.select(FILTER_COLS)"
   ]
  },
  {
   "cell_type": "code",
   "execution_count": 26,
   "metadata": {
    "editable": true
   },
   "outputs": [
    {
     "data": {
      "text/html": [
       "<div>\n",
       "<style scoped>\n",
       "    .dataframe tbody tr th:only-of-type {\n",
       "        vertical-align: middle;\n",
       "    }\n",
       "\n",
       "    .dataframe tbody tr th {\n",
       "        vertical-align: top;\n",
       "    }\n",
       "\n",
       "    .dataframe thead th {\n",
       "        text-align: right;\n",
       "    }\n",
       "</style>\n",
       "<table border=\"1\" class=\"dataframe\">\n",
       "  <thead>\n",
       "    <tr style=\"text-align: right;\">\n",
       "      <th></th>\n",
       "      <th>ID</th>\n",
       "      <th>Name</th>\n",
       "      <th>Rank</th>\n",
       "      <th>Average</th>\n",
       "      <th>Bayes average</th>\n",
       "      <th>Users rated</th>\n",
       "      <th>filename</th>\n",
       "    </tr>\n",
       "  </thead>\n",
       "  <tbody>\n",
       "    <tr>\n",
       "      <th>0</th>\n",
       "      <td>174430</td>\n",
       "      <td>Gloomhaven</td>\n",
       "      <td>1</td>\n",
       "      <td>8.85</td>\n",
       "      <td>8.585</td>\n",
       "      <td>30740</td>\n",
       "      <td>file:/home/workspace/bgg-ranking-historicals/2...</td>\n",
       "    </tr>\n",
       "    <tr>\n",
       "      <th>1</th>\n",
       "      <td>161936</td>\n",
       "      <td>Pandemic Legacy: Season 1</td>\n",
       "      <td>2</td>\n",
       "      <td>8.63</td>\n",
       "      <td>8.472</td>\n",
       "      <td>34439</td>\n",
       "      <td>file:/home/workspace/bgg-ranking-historicals/2...</td>\n",
       "    </tr>\n",
       "    <tr>\n",
       "      <th>2</th>\n",
       "      <td>167791</td>\n",
       "      <td>Terraforming Mars</td>\n",
       "      <td>3</td>\n",
       "      <td>8.42</td>\n",
       "      <td>8.267</td>\n",
       "      <td>47598</td>\n",
       "      <td>file:/home/workspace/bgg-ranking-historicals/2...</td>\n",
       "    </tr>\n",
       "    <tr>\n",
       "      <th>3</th>\n",
       "      <td>182028</td>\n",
       "      <td>Through the Ages: A New Story of Civilization</td>\n",
       "      <td>4</td>\n",
       "      <td>8.50</td>\n",
       "      <td>8.236</td>\n",
       "      <td>18093</td>\n",
       "      <td>file:/home/workspace/bgg-ranking-historicals/2...</td>\n",
       "    </tr>\n",
       "    <tr>\n",
       "      <th>4</th>\n",
       "      <td>224517</td>\n",
       "      <td>Brass: Birmingham</td>\n",
       "      <td>5</td>\n",
       "      <td>8.62</td>\n",
       "      <td>8.197</td>\n",
       "      <td>9728</td>\n",
       "      <td>file:/home/workspace/bgg-ranking-historicals/2...</td>\n",
       "    </tr>\n",
       "  </tbody>\n",
       "</table>\n",
       "</div>"
      ],
      "text/plain": [
       "       ID                                           Name  Rank  Average  \\\n",
       "0  174430                                     Gloomhaven     1     8.85   \n",
       "1  161936                      Pandemic Legacy: Season 1     2     8.63   \n",
       "2  167791                              Terraforming Mars     3     8.42   \n",
       "3  182028  Through the Ages: A New Story of Civilization     4     8.50   \n",
       "4  224517                              Brass: Birmingham     5     8.62   \n",
       "\n",
       "   Bayes average  Users rated  \\\n",
       "0          8.585        30740   \n",
       "1          8.472        34439   \n",
       "2          8.267        47598   \n",
       "3          8.236        18093   \n",
       "4          8.197         9728   \n",
       "\n",
       "                                            filename  \n",
       "0  file:/home/workspace/bgg-ranking-historicals/2...  \n",
       "1  file:/home/workspace/bgg-ranking-historicals/2...  \n",
       "2  file:/home/workspace/bgg-ranking-historicals/2...  \n",
       "3  file:/home/workspace/bgg-ranking-historicals/2...  \n",
       "4  file:/home/workspace/bgg-ranking-historicals/2...  "
      ]
     },
     "execution_count": 26,
     "metadata": {},
     "output_type": "execute_result"
    }
   ],
   "source": [
    "df_staging_ranking.limit(5).toPandas()"
   ]
  },
  {
   "cell_type": "code",
   "execution_count": 27,
   "metadata": {
    "editable": true
   },
   "outputs": [
    {
     "data": {
      "text/plain": [
       "2243307"
      ]
     },
     "execution_count": 27,
     "metadata": {},
     "output_type": "execute_result"
    }
   ],
   "source": [
    "df_staging_ranking.count()"
   ]
  },
  {
   "cell_type": "markdown",
   "metadata": {
    "editable": true
   },
   "source": [
    "##### Writing to parquet only works when we have no spaces in column names"
   ]
  },
  {
   "cell_type": "code",
   "execution_count": 28,
   "metadata": {
    "editable": true
   },
   "outputs": [],
   "source": [
    "df_staging_ranking = df_staging_ranking.withColumnRenamed(\"Bayes average\", \"Bayes_Avg\").withColumnRenamed(\"Users rated\", \"Users_rated\")"
   ]
  },
  {
   "cell_type": "code",
   "execution_count": 29,
   "metadata": {
    "editable": true
   },
   "outputs": [],
   "source": [
    "# persisting to parquet\n",
    "df_staging_ranking.write.mode(\"overwrite\").parquet(\"staging_ranking_data\")\n",
    "df_staging_meta.write.mode(\"overwrite\").parquet(\"staging_meta_data\")"
   ]
  },
  {
   "cell_type": "markdown",
   "metadata": {
    "editable": true
   },
   "source": [
    "### Step 3: Define the Data Model\n",
    "#### 3.1 Conceptual Data Model\n",
    "We choose a snowflake model with five tables: \n",
    "\n",
    "rankings, games, game_categories, game_families, game_mechanics. \n",
    "\n",
    "The first being the fact table, the latter the dimension tables.\n",
    "\n",
    "##### rankings (fact table)\n",
    "\n",
    "|   Column    |  Type    |  Property   |\n",
    "| ----------- | -------- | ----------- |\n",
    "| id          | integer  | Primary key |\n",
    "| rank        | integer  |             |\n",
    "| average     | double   |             |\n",
    "| bayes_avg   | double   |             |\n",
    "| users_rated | integer  |             |\n",
    "| date        | datetime |             |\n",
    "| game_id     | integer  |             |\n",
    "\n",
    "##### games (dimension table)\n",
    "\n",
    "|   Column    |  Type   |  Property   |\n",
    "| ----------- | ------- | ----------- |\n",
    "| game_id     | integer | Primary key |\n",
    "| game_type   | varchar |             |\n",
    "| maxplayers  | integer |             |\n",
    "| maxplaytime | integer |             |\n",
    "| minage      | integer |             |\n",
    "| minplayers  | integer |             |\n",
    "| minplaytime | integer |             |\n",
    "| playingtime | integer |             |\n",
    "| year        | integer |             |\n",
    "| artist      | varchar |             |\n",
    "| designer    | varchar |             |\n",
    "\n",
    "##### game_categories (dimension table)\n",
    "\n",
    "|   Column   |  Type   |  Property   |\n",
    "| ---------- | ------- | ----------- |\n",
    "| id         | integer | Primary key |\n",
    "| category   | varchar |             |\n",
    "| game_id    | integer |             |\n",
    "\n",
    "\n",
    "##### game_mechanics (dimension table)\n",
    "\n",
    "|   Column   |  Type   |  Property   |\n",
    "| ---------- | ------- | ----------- |\n",
    "| id         | integer | Primary key |\n",
    "| mechanic   | varchar |             |\n",
    "| game_id    | integer |             |\n",
    "\n",
    "\n",
    "##### game_family (dimension table)\n",
    "\n",
    "|   Column   |  Type   |  Property   |\n",
    "| ---------- | ------- | ----------- |\n",
    "| id         | integer | Primary key |\n",
    "| family     | varchar |             |\n",
    "| game_id    | integer |             |\n",
    "\n",
    "\n",
    "#### 3.2 Mapping Out Data Pipelines\n",
    "We still need to do some transformations:\n",
    "\n",
    "1) We have to select the right columns, give an alias and perform a join on the two given tables to find the common games (name-wise).\n",
    "\n",
    "2) The columns attributes_boardgamecategory, attributes_boardgamefamily, attributes_boardgamemechanic contain lists. We need to extract/explode that information.\n",
    "\n",
    "3) In the ranking table, the column 'filename' tells when the ranking was collected. We need to extract this date information from the given filepath.\n",
    "\n",
    "4) We are only interested in ratings where more meta data exists. So we can drop ratings which can not be mapped to a game in the meta data."
   ]
  },
  {
   "cell_type": "markdown",
   "metadata": {
    "editable": true
   },
   "source": [
    "### Step 4: Run Pipelines to Model the Data \n",
    "#### 4.1 Create the data model"
   ]
  },
  {
   "cell_type": "markdown",
   "metadata": {
    "editable": true
   },
   "source": [
    "##### Preparing rankings table"
   ]
  },
  {
   "cell_type": "code",
   "execution_count": 30,
   "metadata": {
    "editable": true
   },
   "outputs": [
    {
     "data": {
      "text/html": [
       "<div>\n",
       "<style scoped>\n",
       "    .dataframe tbody tr th:only-of-type {\n",
       "        vertical-align: middle;\n",
       "    }\n",
       "\n",
       "    .dataframe tbody tr th {\n",
       "        vertical-align: top;\n",
       "    }\n",
       "\n",
       "    .dataframe thead th {\n",
       "        text-align: right;\n",
       "    }\n",
       "</style>\n",
       "<table border=\"1\" class=\"dataframe\">\n",
       "  <thead>\n",
       "    <tr style=\"text-align: right;\">\n",
       "      <th></th>\n",
       "      <th>id</th>\n",
       "      <th>rank</th>\n",
       "      <th>average</th>\n",
       "      <th>bayes_avg</th>\n",
       "      <th>users_rated</th>\n",
       "      <th>date</th>\n",
       "      <th>game_id</th>\n",
       "    </tr>\n",
       "  </thead>\n",
       "  <tbody>\n",
       "    <tr>\n",
       "      <th>0</th>\n",
       "      <td>0</td>\n",
       "      <td>6141</td>\n",
       "      <td>6.68</td>\n",
       "      <td>5.617</td>\n",
       "      <td>154</td>\n",
       "      <td>2020-01-03</td>\n",
       "      <td>147474</td>\n",
       "    </tr>\n",
       "    <tr>\n",
       "      <th>1</th>\n",
       "      <td>1</td>\n",
       "      <td>6136</td>\n",
       "      <td>6.68</td>\n",
       "      <td>5.617</td>\n",
       "      <td>154</td>\n",
       "      <td>2020-01-02</td>\n",
       "      <td>147474</td>\n",
       "    </tr>\n",
       "    <tr>\n",
       "      <th>2</th>\n",
       "      <td>2</td>\n",
       "      <td>6125</td>\n",
       "      <td>6.68</td>\n",
       "      <td>5.618</td>\n",
       "      <td>154</td>\n",
       "      <td>2020-01-01</td>\n",
       "      <td>147474</td>\n",
       "    </tr>\n",
       "    <tr>\n",
       "      <th>3</th>\n",
       "      <td>3</td>\n",
       "      <td>6122</td>\n",
       "      <td>6.68</td>\n",
       "      <td>5.618</td>\n",
       "      <td>154</td>\n",
       "      <td>2019-01-31</td>\n",
       "      <td>147474</td>\n",
       "    </tr>\n",
       "    <tr>\n",
       "      <th>4</th>\n",
       "      <td>4</td>\n",
       "      <td>6121</td>\n",
       "      <td>6.68</td>\n",
       "      <td>5.618</td>\n",
       "      <td>154</td>\n",
       "      <td>2019-01-30</td>\n",
       "      <td>147474</td>\n",
       "    </tr>\n",
       "  </tbody>\n",
       "</table>\n",
       "</div>"
      ],
      "text/plain": [
       "   id  rank  average  bayes_avg  users_rated        date game_id\n",
       "0   0  6141     6.68      5.617          154  2020-01-03  147474\n",
       "1   1  6136     6.68      5.617          154  2020-01-02  147474\n",
       "2   2  6125     6.68      5.618          154  2020-01-01  147474\n",
       "3   3  6122     6.68      5.618          154  2019-01-31  147474\n",
       "4   4  6121     6.68      5.618          154  2019-01-30  147474"
      ]
     },
     "execution_count": 30,
     "metadata": {},
     "output_type": "execute_result"
    }
   ],
   "source": [
    "df_rankings = df_staging_ranking.join(df_staging_meta, df_staging_ranking[\"Name\"] == df_staging_meta[\"details_name\"], 'inner') \\\n",
    "                                .select(monotonically_increasing_id().alias(\"id\"),           \\\n",
    "                                        df_staging_ranking.Rank.alias(\"rank\"),               \\\n",
    "                                        df_staging_ranking.Average.alias(\"average\"),         \\\n",
    "                                        df_staging_ranking.Bayes_Avg.alias(\"bayes_avg\"),     \\\n",
    "                                        df_staging_ranking.Users_rated.alias(\"users_rated\"), \\\n",
    "                                        to_date(substring_index(substring_index(df_staging_ranking.filename, \"/\", -1), '.', 1), 'yyyy-mm-dd').alias(\"date\"), \\\n",
    "                                        df_staging_meta.game_id.alias(\"game_id\"))\n",
    "\n",
    "df_rankings.limit(5).toPandas()"
   ]
  },
  {
   "cell_type": "code",
   "execution_count": 31,
   "metadata": {
    "editable": true
   },
   "outputs": [
    {
     "data": {
      "text/plain": [
       "2253038"
      ]
     },
     "execution_count": 31,
     "metadata": {},
     "output_type": "execute_result"
    }
   ],
   "source": [
    "df_rankings.count()"
   ]
  },
  {
   "cell_type": "code",
   "execution_count": 32,
   "metadata": {
    "editable": true
   },
   "outputs": [],
   "source": [
    "df_rankings.write.partitionBy([\"date\"]).parquet('rankings', mode='overwrite')"
   ]
  },
  {
   "cell_type": "markdown",
   "metadata": {
    "editable": true
   },
   "source": [
    "##### Preparing game_details table"
   ]
  },
  {
   "cell_type": "code",
   "execution_count": 33,
   "metadata": {
    "editable": true
   },
   "outputs": [
    {
     "data": {
      "text/html": [
       "<div>\n",
       "<style scoped>\n",
       "    .dataframe tbody tr th:only-of-type {\n",
       "        vertical-align: middle;\n",
       "    }\n",
       "\n",
       "    .dataframe tbody tr th {\n",
       "        vertical-align: top;\n",
       "    }\n",
       "\n",
       "    .dataframe thead th {\n",
       "        text-align: right;\n",
       "    }\n",
       "</style>\n",
       "<table border=\"1\" class=\"dataframe\">\n",
       "  <thead>\n",
       "    <tr style=\"text-align: right;\">\n",
       "      <th></th>\n",
       "      <th>game_id</th>\n",
       "      <th>maxplayers</th>\n",
       "      <th>maxplaytime</th>\n",
       "      <th>minage</th>\n",
       "      <th>minplayers</th>\n",
       "      <th>minplaytime</th>\n",
       "      <th>playingtime</th>\n",
       "      <th>year</th>\n",
       "      <th>artist</th>\n",
       "      <th>designer</th>\n",
       "    </tr>\n",
       "  </thead>\n",
       "  <tbody>\n",
       "    <tr>\n",
       "      <th>0</th>\n",
       "      <td>1</td>\n",
       "      <td>5</td>\n",
       "      <td>240</td>\n",
       "      <td>14</td>\n",
       "      <td>3</td>\n",
       "      <td>240</td>\n",
       "      <td>240</td>\n",
       "      <td>1986</td>\n",
       "      <td>Marcus Gschwendtner</td>\n",
       "      <td>Karl-Heinz Schmiel</td>\n",
       "    </tr>\n",
       "    <tr>\n",
       "      <th>1</th>\n",
       "      <td>2</td>\n",
       "      <td>4</td>\n",
       "      <td>30</td>\n",
       "      <td>12</td>\n",
       "      <td>3</td>\n",
       "      <td>30</td>\n",
       "      <td>30</td>\n",
       "      <td>1981</td>\n",
       "      <td>Bob Pepper</td>\n",
       "      <td>G. W. \"Jerry\" D'Arcey</td>\n",
       "    </tr>\n",
       "    <tr>\n",
       "      <th>2</th>\n",
       "      <td>3</td>\n",
       "      <td>4</td>\n",
       "      <td>60</td>\n",
       "      <td>10</td>\n",
       "      <td>2</td>\n",
       "      <td>30</td>\n",
       "      <td>60</td>\n",
       "      <td>1998</td>\n",
       "      <td>Franz Vohwinkel</td>\n",
       "      <td>Reiner Knizia</td>\n",
       "    </tr>\n",
       "    <tr>\n",
       "      <th>3</th>\n",
       "      <td>4</td>\n",
       "      <td>4</td>\n",
       "      <td>60</td>\n",
       "      <td>12</td>\n",
       "      <td>2</td>\n",
       "      <td>60</td>\n",
       "      <td>60</td>\n",
       "      <td>1992</td>\n",
       "      <td>None</td>\n",
       "      <td>Christian Beierer</td>\n",
       "    </tr>\n",
       "    <tr>\n",
       "      <th>4</th>\n",
       "      <td>5</td>\n",
       "      <td>6</td>\n",
       "      <td>90</td>\n",
       "      <td>12</td>\n",
       "      <td>3</td>\n",
       "      <td>90</td>\n",
       "      <td>90</td>\n",
       "      <td>1964</td>\n",
       "      <td>Scott Okumura,Peter Whitley</td>\n",
       "      <td>Sid Sackson</td>\n",
       "    </tr>\n",
       "  </tbody>\n",
       "</table>\n",
       "</div>"
      ],
      "text/plain": [
       "  game_id  maxplayers  maxplaytime  minage  minplayers  minplaytime  \\\n",
       "0       1           5          240      14           3          240   \n",
       "1       2           4           30      12           3           30   \n",
       "2       3           4           60      10           2           30   \n",
       "3       4           4           60      12           2           60   \n",
       "4       5           6           90      12           3           90   \n",
       "\n",
       "   playingtime  year                       artist               designer  \n",
       "0          240  1986          Marcus Gschwendtner     Karl-Heinz Schmiel  \n",
       "1           30  1981                   Bob Pepper  G. W. \"Jerry\" D'Arcey  \n",
       "2           60  1998              Franz Vohwinkel          Reiner Knizia  \n",
       "3           60  1992                         None      Christian Beierer  \n",
       "4           90  1964  Scott Okumura,Peter Whitley            Sid Sackson  "
      ]
     },
     "execution_count": 33,
     "metadata": {},
     "output_type": "execute_result"
    }
   ],
   "source": [
    "df_game_details = df_staging_meta.select(df_staging_meta.game_id.alias(\"game_id\"), \\\n",
    "                                         df_staging_meta.details_maxplayers.alias(\"maxplayers\"), \\\n",
    "                                         df_staging_meta.details_maxplaytime.alias(\"maxplaytime\"), \\\n",
    "                                         df_staging_meta.details_minage.alias(\"minage\"), \\\n",
    "                                         df_staging_meta.details_minplayers.alias(\"minplayers\"), \\\n",
    "                                         df_staging_meta.details_minplaytime.alias(\"minplaytime\"), \\\n",
    "                                         df_staging_meta.details_playingtime.alias(\"playingtime\"), \\\n",
    "                                         df_staging_meta.details_yearpublished.alias(\"year\"), \\\n",
    "                                         df_staging_meta.attributes_boardgameartist.alias(\"artist\"), \\\n",
    "                                         df_staging_meta.attributes_boardgamedesigner.alias(\"designer\"))\n",
    "\n",
    "df_game_details.limit(5).toPandas()"
   ]
  },
  {
   "cell_type": "code",
   "execution_count": 34,
   "metadata": {
    "editable": true
   },
   "outputs": [],
   "source": [
    "df_game_details.write.parquet('game_details', mode='overwrite')"
   ]
  },
  {
   "cell_type": "code",
   "execution_count": 35,
   "metadata": {
    "editable": true
   },
   "outputs": [
    {
     "data": {
      "text/plain": [
       "90400"
      ]
     },
     "execution_count": 35,
     "metadata": {},
     "output_type": "execute_result"
    }
   ],
   "source": [
    "df_game_details.count()"
   ]
  },
  {
   "cell_type": "markdown",
   "metadata": {
    "editable": true
   },
   "source": [
    "##### Preparing game_categories table"
   ]
  },
  {
   "cell_type": "code",
   "execution_count": 36,
   "metadata": {
    "editable": true
   },
   "outputs": [
    {
     "data": {
      "text/html": [
       "<div>\n",
       "<style scoped>\n",
       "    .dataframe tbody tr th:only-of-type {\n",
       "        vertical-align: middle;\n",
       "    }\n",
       "\n",
       "    .dataframe tbody tr th {\n",
       "        vertical-align: top;\n",
       "    }\n",
       "\n",
       "    .dataframe thead th {\n",
       "        text-align: right;\n",
       "    }\n",
       "</style>\n",
       "<table border=\"1\" class=\"dataframe\">\n",
       "  <thead>\n",
       "    <tr style=\"text-align: right;\">\n",
       "      <th></th>\n",
       "      <th>id</th>\n",
       "      <th>category</th>\n",
       "      <th>game_id</th>\n",
       "    </tr>\n",
       "  </thead>\n",
       "  <tbody>\n",
       "    <tr>\n",
       "      <th>0</th>\n",
       "      <td>0</td>\n",
       "      <td>Economic</td>\n",
       "      <td>1</td>\n",
       "    </tr>\n",
       "    <tr>\n",
       "      <th>1</th>\n",
       "      <td>1</td>\n",
       "      <td>Negotiation</td>\n",
       "      <td>1</td>\n",
       "    </tr>\n",
       "    <tr>\n",
       "      <th>2</th>\n",
       "      <td>2</td>\n",
       "      <td>Political</td>\n",
       "      <td>1</td>\n",
       "    </tr>\n",
       "    <tr>\n",
       "      <th>3</th>\n",
       "      <td>3</td>\n",
       "      <td>Card Game</td>\n",
       "      <td>2</td>\n",
       "    </tr>\n",
       "    <tr>\n",
       "      <th>4</th>\n",
       "      <td>4</td>\n",
       "      <td>Fantasy</td>\n",
       "      <td>2</td>\n",
       "    </tr>\n",
       "  </tbody>\n",
       "</table>\n",
       "</div>"
      ],
      "text/plain": [
       "   id     category game_id\n",
       "0   0     Economic       1\n",
       "1   1  Negotiation       1\n",
       "2   2    Political       1\n",
       "3   3    Card Game       2\n",
       "4   4      Fantasy       2"
      ]
     },
     "execution_count": 36,
     "metadata": {},
     "output_type": "execute_result"
    }
   ],
   "source": [
    "df_game_categories = df_staging_meta.select(monotonically_increasing_id().alias(\"id\"), \\\n",
    "                                            explode(split(df_staging_meta.attributes_boardgamecategory, ',')).alias(\"category\"), \\\n",
    "                                            df_staging_meta.game_id.alias(\"game_id\"))\n",
    "\n",
    "df_game_categories.limit(5).toPandas()"
   ]
  },
  {
   "cell_type": "code",
   "execution_count": 37,
   "metadata": {
    "editable": true
   },
   "outputs": [],
   "source": [
    "df_game_categories.write.parquet('game_categories', mode='overwrite')"
   ]
  },
  {
   "cell_type": "markdown",
   "metadata": {
    "editable": true
   },
   "source": [
    "##### Preparing game_mechanics table"
   ]
  },
  {
   "cell_type": "code",
   "execution_count": 38,
   "metadata": {
    "editable": true
   },
   "outputs": [
    {
     "data": {
      "text/html": [
       "<div>\n",
       "<style scoped>\n",
       "    .dataframe tbody tr th:only-of-type {\n",
       "        vertical-align: middle;\n",
       "    }\n",
       "\n",
       "    .dataframe tbody tr th {\n",
       "        vertical-align: top;\n",
       "    }\n",
       "\n",
       "    .dataframe thead th {\n",
       "        text-align: right;\n",
       "    }\n",
       "</style>\n",
       "<table border=\"1\" class=\"dataframe\">\n",
       "  <thead>\n",
       "    <tr style=\"text-align: right;\">\n",
       "      <th></th>\n",
       "      <th>id</th>\n",
       "      <th>mechanic</th>\n",
       "      <th>game_id</th>\n",
       "    </tr>\n",
       "  </thead>\n",
       "  <tbody>\n",
       "    <tr>\n",
       "      <th>0</th>\n",
       "      <td>0</td>\n",
       "      <td>Area Control / Area Influence</td>\n",
       "      <td>1</td>\n",
       "    </tr>\n",
       "    <tr>\n",
       "      <th>1</th>\n",
       "      <td>1</td>\n",
       "      <td>Auction/Bidding</td>\n",
       "      <td>1</td>\n",
       "    </tr>\n",
       "    <tr>\n",
       "      <th>2</th>\n",
       "      <td>2</td>\n",
       "      <td>Dice Rolling</td>\n",
       "      <td>1</td>\n",
       "    </tr>\n",
       "    <tr>\n",
       "      <th>3</th>\n",
       "      <td>3</td>\n",
       "      <td>Hand Management</td>\n",
       "      <td>1</td>\n",
       "    </tr>\n",
       "    <tr>\n",
       "      <th>4</th>\n",
       "      <td>4</td>\n",
       "      <td>Simultaneous Action Selection</td>\n",
       "      <td>1</td>\n",
       "    </tr>\n",
       "  </tbody>\n",
       "</table>\n",
       "</div>"
      ],
      "text/plain": [
       "   id                       mechanic game_id\n",
       "0   0  Area Control / Area Influence       1\n",
       "1   1                Auction/Bidding       1\n",
       "2   2                   Dice Rolling       1\n",
       "3   3                Hand Management       1\n",
       "4   4  Simultaneous Action Selection       1"
      ]
     },
     "execution_count": 38,
     "metadata": {},
     "output_type": "execute_result"
    }
   ],
   "source": [
    "df_game_mechanics = df_staging_meta.select(monotonically_increasing_id().alias(\"id\"), \\\n",
    "                                            explode(split(df_staging_meta.attributes_boardgamemechanic, ',')).alias(\"mechanic\"), \\\n",
    "                                            df_staging_meta.game_id.alias(\"game_id\"))\n",
    "\n",
    "df_game_mechanics.limit(5).toPandas()"
   ]
  },
  {
   "cell_type": "code",
   "execution_count": 39,
   "metadata": {
    "editable": true
   },
   "outputs": [],
   "source": [
    "df_game_mechanics.write.parquet('game_mechanics', mode='overwrite')"
   ]
  },
  {
   "cell_type": "markdown",
   "metadata": {
    "editable": true
   },
   "source": [
    "##### Preparing game_family"
   ]
  },
  {
   "cell_type": "code",
   "execution_count": 40,
   "metadata": {
    "editable": true
   },
   "outputs": [
    {
     "data": {
      "text/html": [
       "<div>\n",
       "<style scoped>\n",
       "    .dataframe tbody tr th:only-of-type {\n",
       "        vertical-align: middle;\n",
       "    }\n",
       "\n",
       "    .dataframe tbody tr th {\n",
       "        vertical-align: top;\n",
       "    }\n",
       "\n",
       "    .dataframe thead th {\n",
       "        text-align: right;\n",
       "    }\n",
       "</style>\n",
       "<table border=\"1\" class=\"dataframe\">\n",
       "  <thead>\n",
       "    <tr style=\"text-align: right;\">\n",
       "      <th></th>\n",
       "      <th>id</th>\n",
       "      <th>family</th>\n",
       "      <th>game_id</th>\n",
       "    </tr>\n",
       "  </thead>\n",
       "  <tbody>\n",
       "    <tr>\n",
       "      <th>0</th>\n",
       "      <td>0</td>\n",
       "      <td>Country: Germany</td>\n",
       "      <td>1</td>\n",
       "    </tr>\n",
       "    <tr>\n",
       "      <th>1</th>\n",
       "      <td>1</td>\n",
       "      <td>Valley Games Classic Line</td>\n",
       "      <td>1</td>\n",
       "    </tr>\n",
       "    <tr>\n",
       "      <th>2</th>\n",
       "      <td>2</td>\n",
       "      <td>Animals: Dragons</td>\n",
       "      <td>2</td>\n",
       "    </tr>\n",
       "    <tr>\n",
       "      <th>3</th>\n",
       "      <td>3</td>\n",
       "      <td>Asian Theme</td>\n",
       "      <td>3</td>\n",
       "    </tr>\n",
       "    <tr>\n",
       "      <th>4</th>\n",
       "      <td>4</td>\n",
       "      <td>Country: Japan</td>\n",
       "      <td>3</td>\n",
       "    </tr>\n",
       "  </tbody>\n",
       "</table>\n",
       "</div>"
      ],
      "text/plain": [
       "   id                     family game_id\n",
       "0   0           Country: Germany       1\n",
       "1   1  Valley Games Classic Line       1\n",
       "2   2           Animals: Dragons       2\n",
       "3   3                Asian Theme       3\n",
       "4   4             Country: Japan       3"
      ]
     },
     "execution_count": 40,
     "metadata": {},
     "output_type": "execute_result"
    }
   ],
   "source": [
    "df_game_family = df_staging_meta.select(monotonically_increasing_id().alias(\"id\"), \\\n",
    "                                            explode(split(df_staging_meta.attributes_boardgamefamily, ',')).alias(\"family\"), \\\n",
    "                                            df_staging_meta.game_id.alias(\"game_id\"))\n",
    "\n",
    "df_game_family.limit(5).toPandas()"
   ]
  },
  {
   "cell_type": "code",
   "execution_count": 41,
   "metadata": {
    "editable": true
   },
   "outputs": [],
   "source": [
    "df_game_family.write.parquet('game_family', mode='overwrite')"
   ]
  },
  {
   "cell_type": "markdown",
   "metadata": {
    "editable": true
   },
   "source": [
    "#### 4.2 Data Quality Checks"
   ]
  },
  {
   "cell_type": "code",
   "execution_count": 42,
   "metadata": {
    "editable": true
   },
   "outputs": [
    {
     "name": "stdout",
     "output_type": "stream",
     "text": [
      "Success: All tables have rows!\n"
     ]
    }
   ],
   "source": [
    "hasRows = (df_rankings.count() > 0)\n",
    "hasRows = (df_game_details.count() > 0)    and hasRows\n",
    "hasRows = (df_game_categories.count() > 0) and hasRows\n",
    "hasRows = (df_game_mechanics.count() > 0)  and hasRows\n",
    "hasRows = (df_game_family.count() > 0)     and hasRows\n",
    "\n",
    "if hasRows:\n",
    "    print('Success: All tables have rows!')\n",
    "else:\n",
    "    raise ValueError('Failure: At least one of the tables (fact or dimension tables) is empty.')"
   ]
  },
  {
   "cell_type": "code",
   "execution_count": 43,
   "metadata": {
    "editable": true
   },
   "outputs": [
    {
     "name": "stdout",
     "output_type": "stream",
     "text": [
      "Success: All tables have unique IDs!\n"
     ]
    }
   ],
   "source": [
    "hasUniqueKeys = (df_rankings.select(\"id\").distinct().count() == df_rankings.count())\n",
    "hasUniqueKeys = (df_game_details.select(\"game_id\").distinct().count() == df_game_details.count())  and hasUniqueKeys\n",
    "hasUniqueKeys = (df_game_categories.select(\"id\").distinct().count() == df_game_categories.count()) and hasUniqueKeys\n",
    "hasUniqueKeys = (df_game_mechanics.select(\"id\").distinct().count() == df_game_mechanics.count())   and hasUniqueKeys\n",
    "hasUniqueKeys = (df_game_family.select(\"id\").distinct().count() == df_game_family.count())         and hasUniqueKeys\n",
    "\n",
    "if hasUniqueKeys:\n",
    "    print('Success: All tables have unique IDs!')\n",
    "else:\n",
    "    raise ValueError('Failure: At least one of the tables does not have unique IDs.')"
   ]
  },
  {
   "cell_type": "markdown",
   "metadata": {
    "editable": true
   },
   "source": [
    "#### 4.3 Data Dictionary"
   ]
  },
  {
   "cell_type": "markdown",
   "metadata": {
    "editable": true
   },
   "source": [
    "##### rankings (fact table)\n",
    "\n",
    "|   Column    |                    description                     |\n",
    "| ----------- | -------------------------------------------------- |\n",
    "| id          | auto incrementing key                              | \n",
    "| rank        | rank of the game on the particular date            |\n",
    "| average     | average rating                                     |\n",
    "| bayes_avg   | bayes average rating                               |\n",
    "| users_rated | number of users who rated                          |\n",
    "| date        | time when the other values were calculated / taken |\n",
    "| game_id     | foreign key: linking to game_details               |\n",
    "\n",
    "##### game_details (dimension table)\n",
    "\n",
    "|   Column    |                           description                         |\n",
    "| ----------- | ------------------------------------------------------------- |\n",
    "| game_id     | auto incrementing key                                         |\n",
    "| game_type   | which type of game; e.g. board game, board game expansion, .. |\n",
    "| maxplayers  | maximum number of players                                     |\n",
    "| maxplaytime | maximum playtime for one game                                 |\n",
    "| minage      | recommended minimum age of players                            |\n",
    "| minplayers  | minimum number of players                                     |\n",
    "| minplaytime | minimum playtime for one game                                 |\n",
    "| playingtime | average playing time for one game                             |\n",
    "| year        | year in which the game was published                          |\n",
    "| artist      | game artist                                                   |\n",
    "| designer    | game designer                                                 |\n",
    "\n",
    "##### game_categories (dimension table)\n",
    "\n",
    "|   Column   |                 description                 |\n",
    "| ---------- | ------------------------------------------- |\n",
    "| id         | auto incrementing key                       |\n",
    "| category   | game category (e.g. Political, Fantasy, ..) |\n",
    "| game_id    | foreign key: linking to game_details        |\n",
    "\n",
    "\n",
    "##### game_mechanics (dimension table)\n",
    "\n",
    "|   Column   |                      description                        |\n",
    "| ---------- | ------------------------------------------------------ |\n",
    "| id         | auto incrementing key                                  |\n",
    "| mechanic   | game mechanic (e.g. Auction/Bidding, Dice Rolling, ..) |\n",
    "| game_id    | foreign key: linking to game_details                   |\n",
    "\n",
    "\n",
    "##### game_family (dimension table)\n",
    "\n",
    "|   Column   |               description                  |\n",
    "| ---------- | ------------------------------------------ |\n",
    "| id         | auto incrementing key                      |\n",
    "| family     | game family (e.g. Asian Theme, Dragon, ..) |\n",
    "| game_id    | foreign key: linking to game_details       |"
   ]
  },
  {
   "cell_type": "markdown",
   "metadata": {
    "editable": true
   },
   "source": [
    "#### Step 5: Complete Project Write Up\n",
    "* Clearly state the rationale for the choice of tools and technologies for the project."
   ]
  },
  {
   "cell_type": "markdown",
   "metadata": {
    "editable": true
   },
   "source": [
    "We decided to use Spark since in case data was significally increased, we would already be able to use the parallelism of spark without much rewriting.\n",
    "We further decided to stay on a local machine as long as the amount of data is managable. The data model is locally persisted in parquet files (the large dataset rankings is partioned by date). This could easily be transferred to S3 in future in case we have to deal with more data."
   ]
  },
  {
   "cell_type": "markdown",
   "metadata": {
    "editable": true
   },
   "source": [
    "* Propose how often the data should be updated and why."
   ]
  },
  {
   "cell_type": "markdown",
   "metadata": {
    "editable": true
   },
   "source": [
    "The data source for getting the rankings is updated once a day. So it would make sense to receive these updates on a daily basis to be able to recognize trends as early as possible."
   ]
  },
  {
   "cell_type": "markdown",
   "metadata": {
    "editable": true
   },
   "source": [
    "* Write a description of how you would approach the problem differently under the following scenarios:\n",
    " * The data was increased by 100x.\n",
    " * The data populates a dashboard that must be updated on a daily basis by 7am every day.\n",
    " * The database needed to be accessed by 100+ people."
   ]
  },
  {
   "cell_type": "markdown",
   "metadata": {
    "editable": true
   },
   "source": [
    "In case the data would be increased by 100x, we most likely will lack performance on our local machine. Since the code is already prepared and written for the usage of Spark, I would then suggest to run this notebook on a cluster (e.g. AWS) and populate the data to S3."
   ]
  },
  {
   "cell_type": "markdown",
   "metadata": {
    "editable": true
   },
   "source": [
    "In case the data populates a dashboard once a day, I would suggest to write an airflow pipeline which first pulls the rankings from git and then reloads the meta data from kaggle via API. After that the pipeline should do the necessary transformations and persist the data. This enables us to recognize errors faster and since this would be an automated process I would additionally suggest to write more tests to ensure data quality."
   ]
  },
  {
   "cell_type": "markdown",
   "metadata": {
    "editable": true
   },
   "source": [
    "In case the database needs to be accessed by 100+ people, I would also suggest to move the storage to AWS (or a similar service)."
   ]
  }
 ],
 "metadata": {
  "kernelspec": {
   "display_name": "Python 3",
   "language": "python",
   "name": "python3"
  },
  "language_info": {
   "codemirror_mode": {
    "name": "ipython",
    "version": 3
   },
   "file_extension": ".py",
   "mimetype": "text/x-python",
   "name": "python",
   "nbconvert_exporter": "python",
   "pygments_lexer": "ipython3",
   "version": "3.6.3"
  }
 },
 "nbformat": 4,
 "nbformat_minor": 4
}
